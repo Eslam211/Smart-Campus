{
 "cells": [
  {
   "cell_type": "markdown",
   "metadata": {},
   "source": [
    "# Import Packages"
   ]
  },
  {
   "cell_type": "code",
   "execution_count": null,
   "metadata": {},
   "outputs": [],
   "source": [
    "import pandas as pd\n",
    "import numpy as np\n",
    "import matplotlib.pyplot as plt\n",
    "%matplotlib inline\n",
    "\n",
    "from collections import Counter\n",
    "import json\n",
    "import math\n",
    "import statistics"
   ]
  },
  {
   "cell_type": "markdown",
   "metadata": {},
   "source": [
    "# Upload Datasets"
   ]
  },
  {
   "cell_type": "code",
   "execution_count": null,
   "metadata": {},
   "outputs": [],
   "source": [
    "Data_File1 = pd.read_csv (r'/homedir01/eeldeeb19/Oulu Data/sc-export-2021022500-elsys.csv')"
   ]
  },
  {
   "cell_type": "code",
   "execution_count": null,
   "metadata": {},
   "outputs": [],
   "source": [
    "Data_File1.head()"
   ]
  },
  {
   "cell_type": "code",
   "execution_count": null,
   "metadata": {},
   "outputs": [],
   "source": [
    "Data_File2 = pd.read_csv (r'/homedir01/eeldeeb19/Oulu Data/sc-export-2021022500-lora.csv')"
   ]
  },
  {
   "cell_type": "code",
   "execution_count": null,
   "metadata": {},
   "outputs": [],
   "source": [
    "Data_File2.head()"
   ]
  },
  {
   "cell_type": "code",
   "execution_count": null,
   "metadata": {},
   "outputs": [],
   "source": []
  },
  {
   "cell_type": "code",
   "execution_count": null,
   "metadata": {},
   "outputs": [],
   "source": [
    "len(Data_File1)"
   ]
  },
  {
   "cell_type": "markdown",
   "metadata": {},
   "source": [
    "In the first dataset, we have 6957973 readings for all the devices. Each device is attached to a unique id called deveui. The physical parameters measured are temperature, humidity, light, motion, CO2, battery, sound average, sound peak, moisture, and pressure. For the acceleration, there are no data provided.\n"
   ]
  },
  {
   "cell_type": "markdown",
   "metadata": {},
   "source": [
    "In this file, we will do an advanced analysis for all parameters. We will visulaize the physical parameters for all devices. In addition, we are going to present a statistical analysis for these parameters in terms of max. readings, min. readings, mean of the readings, and others."
   ]
  },
  {
   "cell_type": "markdown",
   "metadata": {},
   "source": [
    "# Advanced Analysis"
   ]
  },
  {
   "cell_type": "code",
   "execution_count": null,
   "metadata": {},
   "outputs": [],
   "source": [
    "Deveui = Data_File1[\"deveui\"]\n",
    "Devices = dict(Counter(Deveui))\n",
    "Rep = Devices.values()\n",
    "Devices_Headers = list(Devices.keys())\n",
    "Deveui_lis = list(Deveui)"
   ]
  },
  {
   "cell_type": "markdown",
   "metadata": {},
   "source": [
    "# Reading indeces"
   ]
  },
  {
   "cell_type": "code",
   "execution_count": null,
   "metadata": {},
   "outputs": [],
   "source": [
    "all_list = []\n",
    "for i in range (0,len(Devices_Headers)) :\n",
    "    res_list = []\n",
    "    for j in range (0,len(Deveui_lis)) :\n",
    "        if Deveui_lis[j] == Devices_Headers[i] : \n",
    "            res_list.append(j)\n",
    "    all_list.append(res_list)\n",
    "#print(Deveui_lis.index(it[256]))\n",
    "print(all_list)"
   ]
  },
  {
   "cell_type": "code",
   "execution_count": null,
   "metadata": {},
   "outputs": [],
   "source": [
    "Devices_Headers[1]"
   ]
  },
  {
   "cell_type": "markdown",
   "metadata": {},
   "source": [
    "# Co2 Analysis"
   ]
  },
  {
   "cell_type": "code",
   "execution_count": null,
   "metadata": {
    "scrolled": false
   },
   "outputs": [],
   "source": [
    "# Statistics Processing\n",
    "Co2 = Data_File1[\"co2\"]\n",
    "count = 0\n",
    "num = 0\n",
    "len_Co2 = []\n",
    "max_Co2 = []\n",
    "min_Co2 = []\n",
    "avg_Co2 = []\n",
    "mean_Co2 = []\n",
    "median_Co2 = []\n",
    "variance_Co2 = []\n",
    "std_Co2 = []\n",
    "High_median_Co2 = []\n",
    "Low_median_Co2 = []\n",
    "\n",
    "for i in range (0,len(Devices_Headers)):\n",
    "    t = all_list[i]\n",
    "    Co2_i = Co2[t]\n",
    "    Co2_i = [x for x in Co2_i if str(x) != 'nan']\n",
    "    if len(Co2_i) == 0:\n",
    "        count = count + 1\n",
    "    else:    \n",
    "        len_Co2.append(len(Co2_i))\n",
    "        max_Co2.append(max(Co2_i))\n",
    "        min_Co2.append(min(Co2_i))\n",
    "        avg_Co2.append(sum(Co2_i)/len(Co2_i))\n",
    "        mean_Co2.append(statistics.mean(Co2_i))\n",
    "        median_Co2.append(statistics.median(Co2_i))\n",
    "        variance_Co2.append(statistics.variance(Co2_i))\n",
    "        std_Co2.append(statistics.stdev(Co2_i))\n",
    "        High_median_Co2.append(statistics.median_high(Co2_i))\n",
    "        Low_median_Co2.append(statistics.median_low(Co2_i))\n",
    "        \n",
    "#         num = num +1\n",
    "#         numm = str(num)\n",
    "        \n",
    "        id_deveui = Devices_Headers[i]\n",
    "#         id_str = str(id_deveui)\n",
    "        \n",
    "        plt.plot(t,Co2[t])\n",
    "        plt.title('Co2_' + id_deveui)\n",
    "        plt.xlabel('Samples')\n",
    "        plt.ylabel('Co2 readings for device')\n",
    "#             plt.savefig('Co2_' + numm + '.jpg')\n",
    "        plt.show()\n"
   ]
  },
  {
   "cell_type": "code",
   "execution_count": null,
   "metadata": {},
   "outputs": [],
   "source": [
    "print(count)\n",
    "print(len(len_Co2))"
   ]
  },
  {
   "cell_type": "markdown",
   "metadata": {},
   "source": [
    "There are 326 CO2 devices, and 142 non-CO2 devices. In addition, we plotted all the CO2 measured againts its index number in the dataset for each device among the 326 CO2 devices. We can notice the high variation in the CO2 among devices due to the differenct locations between devices. To address such variations, we will plot further analysis as following:"
   ]
  },
  {
   "cell_type": "code",
   "execution_count": null,
   "metadata": {},
   "outputs": [],
   "source": [
    "# Length\n",
    "# print(max(len_Co2))\n",
    "# print(min(len_Co2))\n",
    "Sorted_len = sorted(len_Co2)\n",
    "print(\"Length analysis\")\n",
    "print(Sorted_len[0:3])\n",
    "print(Sorted_len[-3:][::-1])\n",
    "print(statistics.mean(len_Co2))\n",
    "# plot\n",
    "plt.plot(list(range(1,len(len_Co2)+1)),len_Co2)\n",
    "plt.title('Length of Readings for CO2 Devices')\n",
    "plt.xlabel('CO2 Devices')\n",
    "plt.ylabel('Length of Readings')\n",
    "# plt.savefig('len_Co2.jpg')\n",
    "plt.show()\n",
    "\n",
    "\n",
    "# Max\n",
    "# print(max(max_Co2))\n",
    "# print(min(max_Co2))\n",
    "Sorted_max = sorted(max_Co2)\n",
    "print(\"Max. analysis\")\n",
    "print(Sorted_max[0:3])\n",
    "print(Sorted_max[-3:][::-1])\n",
    "print(statistics.mean(max_Co2))\n",
    "# plot\n",
    "plt.plot(list(range(1,len(max_Co2)+1)),max_Co2)\n",
    "plt.title('Max of CO2 Readings for CO2 Devices')\n",
    "plt.xlabel('CO2 Devices')\n",
    "plt.ylabel('Max of Readings')\n",
    "# plt.savefig('max_Co2.jpg')\n",
    "plt.show()\n",
    "\n",
    "\n",
    "# Min\n",
    "# print(max(min_Co2))\n",
    "# print(min(min_Co2))\n",
    "Sorted_min = sorted(min_Co2)\n",
    "print(\"Min. analysis\")\n",
    "print(Sorted_min[0:3])\n",
    "print(Sorted_min[-3:][::-1])\n",
    "print(statistics.mean(min_Co2))\n",
    "# plot\n",
    "plt.plot(list(range(1,len(min_Co2)+1)),min_Co2)\n",
    "plt.title('min of Readngs for CO2 Devices')\n",
    "plt.xlabel('CO2 Devices')\n",
    "plt.ylabel('Min of Readngs')\n",
    "# plt.savefig('min_Co2.jpg')\n",
    "plt.show()\n",
    "\n",
    "\n",
    "# Mean\n",
    "# print(max(mean_Co2))\n",
    "# print(min(mean_Co2))\n",
    "Sorted_amean = sorted(mean_Co2)\n",
    "print(\"Mean analysis\")\n",
    "print(Sorted_amean[0:3])\n",
    "print(Sorted_amean[-3:][::-1])\n",
    "print(statistics.mean(mean_Co2))\n",
    "# plot\n",
    "plt.plot(list(range(1,len(mean_Co2)+1)),mean_Co2)\n",
    "plt.title('Mean of Readings for CO2 Devices')\n",
    "plt.xlabel('CO2 Devices')\n",
    "plt.ylabel('Mean of Readings')\n",
    "# plt.savefig('mean_Co2.jpg')\n",
    "plt.show()"
   ]
  },
  {
   "cell_type": "code",
   "execution_count": null,
   "metadata": {},
   "outputs": [],
   "source": [
    "df = pd.DataFrame(max_Co2)\n",
    "df.to_csv('max_Co2')"
   ]
  },
  {
   "cell_type": "code",
   "execution_count": null,
   "metadata": {},
   "outputs": [],
   "source": [
    "df = pd.DataFrame(min_Co2)\n",
    "df.to_csv('min_Co2')"
   ]
  },
  {
   "cell_type": "code",
   "execution_count": null,
   "metadata": {},
   "outputs": [],
   "source": [
    "df = pd.DataFrame(mean_Co2)\n",
    "df.to_csv('mean_Co2')\n"
   ]
  },
  {
   "cell_type": "markdown",
   "metadata": {},
   "source": [
    "Here, we done a simple statistical analysis for CO2 readings. First, we have 326 CO2 devices. CO2 percentage is measured in parts per million (ppm). Each CO2 device collects different number of measurements. The min. number of collected measurements for a CO2 device are [238, 1917, 7113, ...], while the max. are: [98559, 16094, 16071, ...]. The average length of CO2 measurements for a device is 14741.496932515338 records."
   ]
  },
  {
   "cell_type": "markdown",
   "metadata": {},
   "source": [
    "The max. readings per device are collected, where the least max. values are: [370.0, 472.0, 491.0, ...] ppm, while the largest max. are: [65534.0, 65533.0, 10000.0, ...] ppm. The average max. value for a CO2 device is: 1640.3926380368098 ppm.\n",
    "\n",
    "The min. readings per device are collected, where the least min. values are: [1.0, 16.0, 62.0, ...] ppm, while the largest min. are: [713.0, 577.0, 572.0, ...] ppm. The average min. value for a CO2 device is: 382.8588957055215 ppm.\n",
    "\n",
    "\n",
    "The mean readings per device are collected, where the least mean values are: [129.72300562727574, 171.98899312070043, 191.28948249313785, ...] ppm, while the largest mean are: [65212.75264322596, 61542.075630252104, 3472.7141366718834, ...] ppm. The average mean value for a CO2 device is: 860.2303739212583 ppm."
   ]
  },
  {
   "cell_type": "markdown",
   "metadata": {},
   "source": [
    "# Temperature Analysis"
   ]
  },
  {
   "cell_type": "code",
   "execution_count": null,
   "metadata": {},
   "outputs": [],
   "source": [
    "# Statistics Processing\n",
    "Temperature = Data_File1[\"temperature\"]\n",
    "count = 0\n",
    "num = 0\n",
    "len_Temperature = []\n",
    "max_Temperature = []\n",
    "min_Temperature = []\n",
    "avg_Temperature = []\n",
    "mean_Temperature = []\n",
    "median_Temperature = []\n",
    "variance_Temperature = []\n",
    "std_Temperature = []\n",
    "High_median_Temperature = []\n",
    "Low_median_Temperature = []\n",
    "\n",
    "for i in range (0,len(Devices_Headers)):\n",
    "    t = all_list[i]\n",
    "    Temperature_i = Temperature[t]\n",
    "    Temperature_i = [x for x in Temperature_i if str(x) != 'nan']\n",
    "    if len(Temperature_i) == 0:\n",
    "        count = count + 1\n",
    "    else:    \n",
    "        len_Temperature.append(len(Temperature_i))\n",
    "        max_Temperature.append(max(Temperature_i))\n",
    "        min_Temperature.append(min(Temperature_i))\n",
    "        avg_Temperature.append(sum(Temperature_i)/len(Temperature_i))\n",
    "        mean_Temperature.append(statistics.mean(Temperature_i))\n",
    "        median_Temperature.append(statistics.median(Temperature_i))\n",
    "        variance_Temperature.append(statistics.variance(Temperature_i))\n",
    "        std_Temperature.append(statistics.stdev(Temperature_i))\n",
    "        High_median_Temperature.append(statistics.median_high(Temperature_i))\n",
    "        Low_median_Temperature.append(statistics.median_low(Temperature_i))\n",
    "        \n",
    "        num = num +1\n",
    "        numm = str(num)\n",
    "        \n",
    "        id_deveui = Devices_Headers[i]\n",
    "#         id_str = str(id_deveui)\n",
    "        \n",
    "        plt.plot(t,Temperature[t])\n",
    "        plt.title('Temperature_' + id_deveui)\n",
    "        plt.xlabel('Samples')\n",
    "        plt.ylabel('Temperature readings for device')\n",
    "#             plt.savefig('Temperature_' + numm + '.jpg')\n",
    "        plt.show()\n"
   ]
  },
  {
   "cell_type": "code",
   "execution_count": null,
   "metadata": {},
   "outputs": [],
   "source": [
    "print(count)\n",
    "print(len(len_Temperature))"
   ]
  },
  {
   "cell_type": "code",
   "execution_count": null,
   "metadata": {},
   "outputs": [],
   "source": [
    "# Length\n",
    "# print(max(len_Temperature))\n",
    "# print(min(len_Temperature))\n",
    "Sorted_len = sorted(len_Temperature)\n",
    "print(\"Length analysis\")\n",
    "print(Sorted_len[0:3])\n",
    "print(Sorted_len[-3:][::-1])\n",
    "print(statistics.mean(len_Temperature))\n",
    "# plot\n",
    "plt.plot(list(range(1,len(len_Temperature)+1)),len_Temperature)\n",
    "plt.title('Length of Readings for Devices')\n",
    "plt.xlabel('Devices')\n",
    "plt.ylabel('Length of Readings')\n",
    "# plt.savefig('len_Temperature.jpg')\n",
    "plt.show()\n",
    "\n",
    "\n",
    "# Max\n",
    "# print(max(max_Temperature))\n",
    "# print(min(max_Temperature))\n",
    "Sorted_max = sorted(max_Temperature)\n",
    "print(\"Max. analysis\")\n",
    "print(Sorted_max[0:3])\n",
    "print(Sorted_max[-3:][::-1])\n",
    "print(statistics.mean(max_Temperature))\n",
    "# plot\n",
    "plt.plot(list(range(1,len(max_Temperature)+1)),max_Temperature)\n",
    "plt.title('Max of Temperature Readings for Devices')\n",
    "plt.xlabel('Devices')\n",
    "plt.ylabel('Max of Readings')\n",
    "# plt.savefig('max_Temperature.jpg')\n",
    "plt.show()\n",
    "\n",
    "\n",
    "# Min\n",
    "# print(max(min_Temperature))\n",
    "# print(min(min_Temperature))\n",
    "Sorted_min = sorted(min_Temperature)\n",
    "print(\"Min. analysis\")\n",
    "print(Sorted_min[0:3])\n",
    "print(Sorted_min[-3:][::-1])\n",
    "print(statistics.mean(min_Temperature))\n",
    "# plot\n",
    "plt.plot(list(range(1,len(min_Temperature)+1)),min_Temperature)\n",
    "plt.title('min of Temperature Readngs for Devices')\n",
    "plt.xlabel('Devices')\n",
    "plt.ylabel('Min of Readngs')\n",
    "# plt.savefig('min_Temperature.jpg')\n",
    "plt.show()\n",
    "\n",
    "\n",
    "# Mean\n",
    "# print(max(mean_Temperature))\n",
    "# print(min(mean_Temperature))\n",
    "Sorted_amean = sorted(mean_Temperature)\n",
    "print(\"Mean analysis\")\n",
    "print(Sorted_amean[0:3])\n",
    "print(Sorted_amean[-3:][::-1])\n",
    "print(statistics.mean(mean_Temperature))\n",
    "# plot\n",
    "plt.plot(list(range(1,len(mean_Temperature)+1)),mean_Temperature)\n",
    "plt.title('Mean of Temperature Readings for Devices')\n",
    "plt.xlabel('Devices')\n",
    "plt.ylabel('Mean of Readings')\n",
    "# plt.savefig('mean_Temperature.jpg')\n",
    "plt.show()"
   ]
  },
  {
   "cell_type": "markdown",
   "metadata": {},
   "source": [
    "Here, we done a simple statistical analysis for temperature readings. First, we have 467 devices that are measuring the temperature. Temperature is measured in celsius (oc). Each device collects different number of measurements. The min. number of collected measurements for a device are [185, 218, 266, ...], while the max. are: [122560, 98553, 65434, ...]. The average length of measurements for a device is 14893.231263383297 records.\n",
    "\n"
   ]
  },
  {
   "cell_type": "markdown",
   "metadata": {},
   "source": [
    "The max. readings per device are collected, where the least max. values are: [19.5, 20.1, 20.1, ...] c, while the largest max. are: [6508.6, 6508.6, 38.4, ...] c. The average max. value for a device is: 52.34946466809422 c.\n",
    "\n",
    "The min. readings per device are collected, where the least min. values are: [3.6, 5.1, 6.0, ...] c, while the largest min. are: [21.2, 21.1, 21.1, ...] c. The average min. value for a  device is: 17.642826552462527 c.\n",
    "\n",
    "The mean readings per device are collected, where the least mean values are: [12.65983547278973, 12.809174311926606, 12.985021544793877, ...] c, while the largest mean are: [57.86864864864865, 24.066169120626775, 24.044628203509657, ...] c. The average mean value for a device is: 20.53350386503111 c."
   ]
  },
  {
   "cell_type": "code",
   "execution_count": null,
   "metadata": {},
   "outputs": [],
   "source": [
    "df = pd.DataFrame(max_Temperature)\n",
    "df.to_csv('max_Temperature')"
   ]
  },
  {
   "cell_type": "code",
   "execution_count": null,
   "metadata": {},
   "outputs": [],
   "source": [
    "df = pd.DataFrame(min_Temperature)\n",
    "df.to_csv('min_Temperature')"
   ]
  },
  {
   "cell_type": "code",
   "execution_count": null,
   "metadata": {},
   "outputs": [],
   "source": [
    "df = pd.DataFrame(mean_Temperature)\n",
    "df.to_csv('mean_Temperature')"
   ]
  },
  {
   "cell_type": "markdown",
   "metadata": {},
   "source": [
    "# Battery Analysis"
   ]
  },
  {
   "cell_type": "code",
   "execution_count": null,
   "metadata": {},
   "outputs": [],
   "source": [
    "# Statistics Processing\n",
    "Battery = Data_File1[\"battery\"]\n",
    "count = 0\n",
    "num = 0\n",
    "len_Battery = []\n",
    "max_Battery = []\n",
    "min_Battery = []\n",
    "avg_Battery = []\n",
    "mean_Battery = []\n",
    "median_Battery = []\n",
    "variance_Battery = []\n",
    "std_Battery = []\n",
    "High_median_Battery = []\n",
    "Low_median_Battery = []\n",
    "\n",
    "for i in range (0,len(Devices_Headers)):\n",
    "    t = all_list[i]\n",
    "    Battery_i = Battery[t]\n",
    "    Battery_i = [x for x in Battery_i if str(x) != 'nan']\n",
    "    if len(Battery_i) == 0:\n",
    "        count = count + 1\n",
    "    else:    \n",
    "        len_Battery.append(len(Battery_i))\n",
    "        max_Battery.append(max(Battery_i))\n",
    "        min_Battery.append(min(Battery_i))\n",
    "        avg_Battery.append(sum(Battery_i)/len(Battery_i))\n",
    "        mean_Battery.append(statistics.mean(Battery_i))\n",
    "        median_Battery.append(statistics.median(Battery_i))\n",
    "        variance_Battery.append(statistics.variance(Battery_i))\n",
    "        std_Battery.append(statistics.stdev(Battery_i))\n",
    "        High_median_Battery.append(statistics.median_high(Battery_i))\n",
    "        Low_median_Battery.append(statistics.median_low(Battery_i))\n",
    "        \n",
    "        num = num +1\n",
    "        numm = str(num)\n",
    "        \n",
    "        id_deveui = Devices_Headers[i]\n",
    "#         id_str = str(id_deveui)\n",
    "        \n",
    "        plt.plot(t,Battery[t])\n",
    "        plt.title('Battery_' + id_deveui)\n",
    "        plt.xlabel('Samples')\n",
    "        plt.ylabel('Battery readings for device')\n",
    "#             plt.savefig('Battery_' + numm + '.jpg')\n",
    "        plt.show()\n"
   ]
  },
  {
   "cell_type": "code",
   "execution_count": null,
   "metadata": {},
   "outputs": [],
   "source": [
    "print(count)\n",
    "print(len(len_Battery))"
   ]
  },
  {
   "cell_type": "code",
   "execution_count": null,
   "metadata": {},
   "outputs": [],
   "source": [
    "# Length\n",
    "# print(max(len_Battery))\n",
    "# print(min(len_Battery))\n",
    "Sorted_len = sorted(len_Battery)\n",
    "print(\"Length analysis\")\n",
    "print(Sorted_len[0:3])\n",
    "print(Sorted_len[-3:][::-1])\n",
    "print(statistics.mean(len_Battery))\n",
    "# plot\n",
    "plt.plot(list(range(1,len(len_Battery)+1)),len_Battery)\n",
    "plt.title('Length of Readings for Devices')\n",
    "plt.xlabel('Devices')\n",
    "plt.ylabel('Length of Readings')\n",
    "# plt.savefig('len_Battery.jpg')\n",
    "plt.show()\n",
    "\n",
    "\n",
    "# Max\n",
    "# print(max(max_Battery))\n",
    "# print(min(max_Battery))\n",
    "Sorted_max = sorted(max_Battery)\n",
    "print(\"Max. analysis\")\n",
    "print(Sorted_max[0:3])\n",
    "print(Sorted_max[-3:][::-1])\n",
    "print(statistics.mean(max_Battery))\n",
    "# plot\n",
    "plt.plot(list(range(1,len(max_Battery)+1)),max_Battery)\n",
    "plt.title('Max of Battery Readings for Devices')\n",
    "plt.xlabel('Devices')\n",
    "plt.ylabel('Max of Readings')\n",
    "# plt.savefig('max_Battery.jpg')\n",
    "plt.show()\n",
    "\n",
    "\n",
    "# Min\n",
    "# print(max(min_Battery))\n",
    "# print(min(min_Battery))\n",
    "Sorted_min = sorted(min_Battery)\n",
    "print(\"Min. analysis\")\n",
    "print(Sorted_min[0:3])\n",
    "print(Sorted_min[-3:][::-1])\n",
    "print(statistics.mean(min_Battery))\n",
    "# plot\n",
    "plt.plot(list(range(1,len(min_Battery)+1)),min_Battery)\n",
    "plt.title('min of Battery Readngs for Devices')\n",
    "plt.xlabel('Devices')\n",
    "plt.ylabel('Min of Readngs')\n",
    "# plt.savefig('min_Battery.jpg')\n",
    "plt.show()\n",
    "\n",
    "\n",
    "# Mean\n",
    "# print(max(mean_Battery))\n",
    "# print(min(mean_Battery))\n",
    "Sorted_amean = sorted(mean_Battery)\n",
    "print(\"Mean analysis\")\n",
    "print(Sorted_amean[0:3])\n",
    "print(Sorted_amean[-3:][::-1])\n",
    "print(statistics.mean(mean_Battery))\n",
    "# plot\n",
    "plt.plot(list(range(1,len(mean_Battery)+1)),mean_Battery)\n",
    "plt.title('Mean of Battery Readings for Devices')\n",
    "plt.xlabel('Devices')\n",
    "plt.ylabel('Mean of Readings')\n",
    "# plt.savefig('mean_Battery.jpg')\n",
    "plt.show()"
   ]
  },
  {
   "cell_type": "markdown",
   "metadata": {},
   "source": [
    "Here, we done a simple statistical analysis for battery readings. First, we have 467 devices that have battery readings. battery readings are measured in voltages (V). Each device collects different number of measurements. The min. number of collected measurements for a device are [211, 218, 266, ...], while the max. are: [122561, 98559, 65434, ...]. The average length of measurements for a device is 14899.295503211992 records."
   ]
  },
  {
   "cell_type": "markdown",
   "metadata": {},
   "source": [
    "The max. readings per device are collected, where the least max. values are: [3.342, 3.4939999999999998, 3.545, ...] V, while the largest max. are: [3.778, 3.74, 3.718, ...] V. The average max. value for a device is: 1640.3.6762912205567453 V.\n",
    "\n",
    "The min. readings per device are collected, where the least min. values are: [1.726, 1.735, 1.742, ...] V, while the largest min. are: [3.6860000000000004, 3.6830000000000003, 3.6830000000000003, ...] V. The average min. value for a device is: 3.6036895074946464\n",
    " V.\n",
    "\n",
    "The mean readings per device are collected, where the least mean values are: [2.8274502369668246, 3.1033781094527364, 3.4604082568807337, ...] V, while the largest mean are: [3.7290414733586394, 3.7124135333377386, 3.7101586452762922, ...] V. The average mean value for a device is: 3.664801187129877 V."
   ]
  },
  {
   "cell_type": "code",
   "execution_count": null,
   "metadata": {},
   "outputs": [],
   "source": [
    "df = pd.DataFrame(max_Battery)\n",
    "df.to_csv('max_Battery')"
   ]
  },
  {
   "cell_type": "code",
   "execution_count": null,
   "metadata": {},
   "outputs": [],
   "source": [
    "df = pd.DataFrame(min_Battery)\n",
    "df.to_csv('min_Battery')"
   ]
  },
  {
   "cell_type": "code",
   "execution_count": null,
   "metadata": {},
   "outputs": [],
   "source": [
    "df = pd.DataFrame(mean_Battery)\n",
    "df.to_csv('mean_Battery')"
   ]
  },
  {
   "cell_type": "markdown",
   "metadata": {},
   "source": [
    "# Humidity Analysis"
   ]
  },
  {
   "cell_type": "code",
   "execution_count": null,
   "metadata": {},
   "outputs": [],
   "source": [
    "# Statistics Processing\n",
    "Humidity = Data_File1[\"humidity\"]\n",
    "count = 0\n",
    "num = 0\n",
    "len_Humidity = []\n",
    "max_Humidity = []\n",
    "min_Humidity = []\n",
    "avg_Humidity = []\n",
    "mean_Humidity = []\n",
    "median_Humidity = []\n",
    "variance_Humidity = []\n",
    "std_Humidity = []\n",
    "High_median_Humidity = []\n",
    "Low_median_Humidity = []\n",
    "\n",
    "for i in range (0,len(Devices_Headers)):\n",
    "    t = all_list[i]\n",
    "    Humidity_i = Humidity[t]\n",
    "    Humidity_i = [x for x in Humidity_i if str(x) != 'nan']\n",
    "    if len(Humidity_i) == 0:\n",
    "        count = count + 1\n",
    "    else:    \n",
    "        len_Humidity.append(len(Humidity_i))\n",
    "        max_Humidity.append(max(Humidity_i))\n",
    "        min_Humidity.append(min(Humidity_i))\n",
    "        avg_Humidity.append(sum(Humidity_i)/len(Humidity_i))\n",
    "        mean_Humidity.append(statistics.mean(Humidity_i))\n",
    "        median_Humidity.append(statistics.median(Humidity_i))\n",
    "        variance_Humidity.append(statistics.variance(Humidity_i))\n",
    "        std_Humidity.append(statistics.stdev(Humidity_i))\n",
    "        High_median_Humidity.append(statistics.median_high(Humidity_i))\n",
    "        Low_median_Humidity.append(statistics.median_low(Humidity_i))\n",
    "        \n",
    "        num = num +1\n",
    "        numm = str(num)\n",
    "        \n",
    "        id_deveui = Devices_Headers[i]\n",
    "#         id_str = str(id_deveui)\n",
    "        \n",
    "        plt.plot(t,Humidity[t])\n",
    "        plt.title('Humidity_' + id_deveui)\n",
    "        plt.xlabel('Samples')\n",
    "        plt.ylabel('Humidity readings for device')\n",
    "#             plt.savefig('Humidity_' + numm + '.jpg')\n",
    "        plt.show()\n"
   ]
  },
  {
   "cell_type": "code",
   "execution_count": null,
   "metadata": {},
   "outputs": [],
   "source": [
    "print(count)\n",
    "print(len(len_Humidity))"
   ]
  },
  {
   "cell_type": "code",
   "execution_count": null,
   "metadata": {},
   "outputs": [],
   "source": [
    "# Length\n",
    "# print(max(len_Humidity))\n",
    "# print(min(len_Humidity))\n",
    "Sorted_len = sorted(len_Humidity)\n",
    "print(\"Length analysis\")\n",
    "print(Sorted_len[0:3])\n",
    "print(Sorted_len[-3:][::-1])\n",
    "print(statistics.mean(len_Humidity))\n",
    "# plot\n",
    "plt.plot(list(range(1,len(len_Humidity)+1)),len_Humidity)\n",
    "plt.title('Length of Readings for Devices')\n",
    "plt.xlabel('Devices')\n",
    "plt.ylabel('Length of Readings')\n",
    "# plt.savefig('len_Humidity.jpg')\n",
    "plt.show()\n",
    "\n",
    "\n",
    "# Max\n",
    "# print(max(max_Humidity))\n",
    "# print(min(max_Humidity))\n",
    "Sorted_max = sorted(max_Humidity)\n",
    "print(\"Max. analysis\")\n",
    "print(Sorted_max[0:3])\n",
    "print(Sorted_max[-3:][::-1])\n",
    "print(statistics.mean(max_Humidity))\n",
    "# plot\n",
    "plt.plot(list(range(1,len(max_Humidity)+1)),max_Humidity)\n",
    "plt.title('Max of Humidity Readings for Devices')\n",
    "plt.xlabel('Devices')\n",
    "plt.ylabel('Max of Readings')\n",
    "# plt.savefig('max_Humidity.jpg')\n",
    "plt.show()\n",
    "\n",
    "\n",
    "# Min\n",
    "# print(max(min_Humidity))\n",
    "# print(min(min_Humidity))\n",
    "Sorted_min = sorted(min_Humidity)\n",
    "print(\"Min. analysis\")\n",
    "print(Sorted_min[0:3])\n",
    "print(Sorted_min[-3:][::-1])\n",
    "print(statistics.mean(min_Humidity))\n",
    "# plot\n",
    "plt.plot(list(range(1,len(min_Humidity)+1)),min_Humidity)\n",
    "plt.title('min of Humidity Readngs for Devices')\n",
    "plt.xlabel('Devices')\n",
    "plt.ylabel('Min of Readngs')\n",
    "# plt.savefig('min_Humidity.jpg')\n",
    "plt.show()\n",
    "\n",
    "\n",
    "# Mean\n",
    "# print(max(mean_Humidity))\n",
    "# print(min(mean_Humidity))\n",
    "Sorted_amean = sorted(mean_Humidity)\n",
    "print(\"Mean analysis\")\n",
    "print(Sorted_amean[0:3])\n",
    "print(Sorted_amean[-3:][::-1])\n",
    "print(statistics.mean(mean_Humidity))\n",
    "# plot\n",
    "plt.plot(list(range(1,len(mean_Humidity)+1)),mean_Humidity)\n",
    "plt.title('Mean of Humidity Readings for Devices')\n",
    "plt.xlabel('Devices')\n",
    "plt.ylabel('Mean of Readings')\n",
    "# plt.savefig('mean_Humidity.jpg')\n",
    "plt.show()"
   ]
  },
  {
   "cell_type": "markdown",
   "metadata": {},
   "source": [
    "Here, we done a simple statistical analysis for humidity readings. First, we have 467 devices that have humidity readings. Humidity is measured in percentage (%). Each device collects different number of measurements. The min. number of collected measurements for a device are [185, 218, 266, ...], while the max. are: [122560, 98553, 65434, ...]. The average length of CO2 measurements for a device is 14893.231263383297 records."
   ]
  },
  {
   "cell_type": "markdown",
   "metadata": {},
   "source": [
    "The max. readings per device are collected, where the least max. values are: [50.0, 56.0, 57.0, ...] %, while the largest max. are: [100.0, 100.0, 100.0, ...] %. The average max. value for a device is: 68.31477516059957 %.\n",
    "\n",
    "The min. readings per device are collected, where the least min. values are: [0.0, 0.0, 0.0, ...] %, while the largest min. are: [96.0, 93.0, 92.0, ...] %. The average min. value for a device is: 5.036402569593148 %.\n",
    "\n",
    "The mean readings per device are collected, where the least mean values are: [23.003471783865674, 23.82233307751343, 26.093340537619884, ...] %, while the largest mean are: [99.42934310793865, 99.02138034508627, 97.67979669631512, ...] %. The average mean value for a device is: 32.90492553034966 %."
   ]
  },
  {
   "cell_type": "code",
   "execution_count": null,
   "metadata": {},
   "outputs": [],
   "source": [
    "df = pd.DataFrame(max_Humidity)\n",
    "df.to_csv('max_Humidity')"
   ]
  },
  {
   "cell_type": "code",
   "execution_count": null,
   "metadata": {},
   "outputs": [],
   "source": [
    "df = pd.DataFrame(min_Humidity)\n",
    "df.to_csv('min_Humidity')"
   ]
  },
  {
   "cell_type": "code",
   "execution_count": null,
   "metadata": {},
   "outputs": [],
   "source": [
    "df = pd.DataFrame(mean_Humidity)\n",
    "df.to_csv('mean_Humidity')"
   ]
  },
  {
   "cell_type": "markdown",
   "metadata": {},
   "source": [
    "# Light Analysis"
   ]
  },
  {
   "cell_type": "code",
   "execution_count": null,
   "metadata": {},
   "outputs": [],
   "source": [
    "# Statistics Processing\n",
    "Light = Data_File1[\"light\"]\n",
    "count = 0\n",
    "num = 0\n",
    "len_Light = []\n",
    "max_Light = []\n",
    "min_Light = []\n",
    "avg_Light = []\n",
    "mean_Light = []\n",
    "median_Light = []\n",
    "variance_Light = []\n",
    "std_Light = []\n",
    "High_median_Light = []\n",
    "Low_median_Light = []\n",
    "\n",
    "for i in range (0,len(Devices_Headers)):\n",
    "    t = all_list[i]\n",
    "    Light_i = Light[t]\n",
    "    Light_i = [x for x in Light_i if str(x) != 'nan']\n",
    "    if len(Light_i) == 0:\n",
    "        count = count + 1\n",
    "    else:    \n",
    "        len_Light.append(len(Light_i))\n",
    "        max_Light.append(max(Light_i))\n",
    "        min_Light.append(min(Light_i))\n",
    "        avg_Light.append(sum(Light_i)/len(Light_i))\n",
    "        mean_Light.append(statistics.mean(Light_i))\n",
    "        median_Light.append(statistics.median(Light_i))\n",
    "        variance_Light.append(statistics.variance(Light_i))\n",
    "        std_Light.append(statistics.stdev(Light_i))\n",
    "        High_median_Light.append(statistics.median_high(Light_i))\n",
    "        Low_median_Light.append(statistics.median_low(Light_i))\n",
    "        \n",
    "        num = num +1\n",
    "        numm = str(num)\n",
    "        \n",
    "        id_deveui = Devices_Headers[i]\n",
    "#         id_str = str(id_deveui)\n",
    "        \n",
    "        plt.plot(t,Light[t])\n",
    "        plt.title('Light_' + id_deveui)\n",
    "        plt.xlabel('Samples')\n",
    "        plt.ylabel('Light readings for device')\n",
    "#             plt.savefig('Light_' + numm + '.jpg')\n",
    "        plt.show()\n"
   ]
  },
  {
   "cell_type": "code",
   "execution_count": null,
   "metadata": {},
   "outputs": [],
   "source": [
    "print(count)\n",
    "print(len(len_Light))"
   ]
  },
  {
   "cell_type": "code",
   "execution_count": null,
   "metadata": {
    "scrolled": true
   },
   "outputs": [],
   "source": [
    "# Length\n",
    "# print(max(len_Light))\n",
    "# print(min(len_Light))\n",
    "Sorted_len = sorted(len_Light)\n",
    "print(\"Length analysis\")\n",
    "print(Sorted_len[0:3])\n",
    "print(Sorted_len[-3:][::-1])\n",
    "print(statistics.mean(len_Light))\n",
    "# plot\n",
    "plt.plot(list(range(1,len(len_Light)+1)),len_Light)\n",
    "plt.title('Length of Readings for Devices')\n",
    "plt.xlabel('Devices')\n",
    "plt.ylabel('Length of Readings')\n",
    "# plt.savefig('len_Light.jpg')\n",
    "plt.show()\n",
    "\n",
    "\n",
    "# Max\n",
    "# print(max(max_Light))\n",
    "# print(min(max_Light))\n",
    "Sorted_max = sorted(max_Light)\n",
    "print(\"Max. analysis\")\n",
    "print(Sorted_max[0:3])\n",
    "print(Sorted_max[-3:][::-1])\n",
    "print(statistics.mean(max_Light))\n",
    "# plot\n",
    "plt.plot(list(range(1,len(max_Light)+1)),max_Light)\n",
    "plt.title('Max of Light Readings for Devices')\n",
    "plt.xlabel('Devices')\n",
    "plt.ylabel('Max of Readings')\n",
    "# plt.savefig('max_Light.jpg')\n",
    "plt.show()\n",
    "\n",
    "\n",
    "# Min\n",
    "# print(max(min_Light))\n",
    "# print(min(min_Light))\n",
    "Sorted_min = sorted(min_Light)\n",
    "print(\"Min. analysis\")\n",
    "print(Sorted_min[0:3])\n",
    "print(Sorted_min[-3:][::-1])\n",
    "print(statistics.mean(min_Light))\n",
    "# plot\n",
    "plt.plot(list(range(1,len(min_Light)+1)),min_Light)\n",
    "plt.title('min of Light Readngs for Devices')\n",
    "plt.xlabel('Devices')\n",
    "plt.ylabel('Min of Readngs')\n",
    "# plt.savefig('min_Light.jpg')\n",
    "plt.show()\n",
    "\n",
    "\n",
    "# Mean\n",
    "# print(max(mean_Light))\n",
    "# print(min(mean_Light))\n",
    "Sorted_amean = sorted(mean_Light)\n",
    "print(\"Mean analysis\")\n",
    "print(Sorted_amean[0:3])\n",
    "print(Sorted_amean[-3:][::-1])\n",
    "print(statistics.mean(mean_Light))\n",
    "# plot\n",
    "plt.plot(list(range(1,len(mean_Light)+1)),mean_Light)\n",
    "plt.title('Mean of Light Readings for Devices')\n",
    "plt.xlabel('Devices')\n",
    "plt.ylabel('Mean of Readings')\n",
    "# plt.savefig('mean_Light.jpg')\n",
    "plt.show()"
   ]
  },
  {
   "cell_type": "markdown",
   "metadata": {},
   "source": [
    "Here, we done a simple statistical analysis for light readings. First, we have 450 devices that have light records. light is measured in lux. Each device collect different number of measurements. The min. number of collected measurements for a device are [1921, 7113, 7831, ...], while the max. are: [122561, 98559, 65434, ...]. The average length of measurements for a device is 15207.853333333333 records."
   ]
  },
  {
   "cell_type": "markdown",
   "metadata": {},
   "source": [
    "The max. readings per device are collected, where the least max. values are: [0.0, 1.0, 1.0, ...] lux, while the largest max. are: [2381.0, 2370.0, 2370.0, ...] lux. The average max. value for a CO2 device is: 833.7466666666667 lux.\n",
    "\n",
    "The min. readings per device are collected, where the least min. values are: [0.0, 0.0, 0.0, ...] lux, while the largest min. are: [246.0, 234.0, 165.0, ...] lux. The average min. value for a CO2 device is: 5.4 lux.\n",
    "\n",
    "The mean readings per device are collected, where the least mean values are: [0.0, 0.025554228063188637, 0.2113076437144662, ...] lux, while the largest mean are: [476.2136132315522, 352.96293701840415, 338.98915654827607, ...] lux. The average mean value for a CO2 device is: 58.85478333161172 lux."
   ]
  },
  {
   "cell_type": "code",
   "execution_count": null,
   "metadata": {},
   "outputs": [],
   "source": [
    "df = pd.DataFrame(max_Light)\n",
    "df.to_csv('max_Light')"
   ]
  },
  {
   "cell_type": "code",
   "execution_count": null,
   "metadata": {},
   "outputs": [],
   "source": [
    "df = pd.DataFrame(min_Light)\n",
    "df.to_csv('min_Light')"
   ]
  },
  {
   "cell_type": "code",
   "execution_count": null,
   "metadata": {},
   "outputs": [],
   "source": [
    "df = pd.DataFrame(mean_Light)\n",
    "df.to_csv('mean_Light')"
   ]
  },
  {
   "cell_type": "markdown",
   "metadata": {},
   "source": [
    "# Motion Analysis"
   ]
  },
  {
   "cell_type": "code",
   "execution_count": null,
   "metadata": {},
   "outputs": [],
   "source": [
    "# Statistics Processing\n",
    "Motion = Data_File1[\"motion\"]\n",
    "count = 0\n",
    "num = 0\n",
    "len_Motion = []\n",
    "max_Motion = []\n",
    "min_Motion = []\n",
    "avg_Motion = []\n",
    "mean_Motion = []\n",
    "median_Motion = []\n",
    "variance_Motion = []\n",
    "std_Motion = []\n",
    "High_median_Motion = []\n",
    "Low_median_Motion = []\n",
    "\n",
    "for i in range (0,len(Devices_Headers)):\n",
    "    t = all_list[i]\n",
    "    Motion_i = Motion[t]\n",
    "    Motion_i = [x for x in Motion_i if str(x) != 'nan']\n",
    "    if len(Motion_i) == 0:\n",
    "        count = count + 1\n",
    "    else:    \n",
    "        len_Motion.append(len(Motion_i))\n",
    "        max_Motion.append(max(Motion_i))\n",
    "        min_Motion.append(min(Motion_i))\n",
    "        avg_Motion.append(sum(Motion_i)/len(Motion_i))\n",
    "        mean_Motion.append(statistics.mean(Motion_i))\n",
    "        median_Motion.append(statistics.median(Motion_i))\n",
    "        variance_Motion.append(statistics.variance(Motion_i))\n",
    "        std_Motion.append(statistics.stdev(Motion_i))\n",
    "        High_median_Motion.append(statistics.median_high(Motion_i))\n",
    "        Low_median_Motion.append(statistics.median_low(Motion_i))\n",
    "        \n",
    "        num = num +1\n",
    "        numm = str(num)\n",
    "        \n",
    "        id_deveui = Devices_Headers[i]\n",
    "#         id_str = str(id_deveui)\n",
    "        \n",
    "        plt.plot(t,Motion[t])\n",
    "        plt.title('Motion_' + id_deveui)\n",
    "        plt.xlabel('Samples')\n",
    "        plt.ylabel('Motion readings for device')\n",
    "#             plt.savefig('Motion_' + numm + '.jpg')\n",
    "        plt.show()\n"
   ]
  },
  {
   "cell_type": "code",
   "execution_count": null,
   "metadata": {},
   "outputs": [],
   "source": [
    "print(count)\n",
    "print(len(len_Motion))"
   ]
  },
  {
   "cell_type": "code",
   "execution_count": null,
   "metadata": {},
   "outputs": [],
   "source": [
    "# Length\n",
    "# print(max(len_Motion))\n",
    "# print(min(len_Motion))\n",
    "Sorted_len = sorted(len_Motion)\n",
    "print(\"Length analysis\")\n",
    "print(Sorted_len[0:3])\n",
    "print(Sorted_len[-3:][::-1])\n",
    "print(statistics.mean(len_Motion))\n",
    "# plot\n",
    "plt.plot(list(range(1,len(len_Motion)+1)),len_Motion)\n",
    "plt.title('Length of Readings for Devices')\n",
    "plt.xlabel('Devices')\n",
    "plt.ylabel('Length of Readings')\n",
    "# plt.savefig('len_Motion.jpg')\n",
    "plt.show()\n",
    "\n",
    "\n",
    "# Max\n",
    "# print(max(max_Motion))\n",
    "# print(min(max_Motion))\n",
    "Sorted_max = sorted(max_Motion)\n",
    "print(\"Max. analysis\")\n",
    "print(Sorted_max[0:3])\n",
    "print(Sorted_max[-3:][::-1])\n",
    "print(statistics.mean(max_Motion))\n",
    "# plot\n",
    "plt.plot(list(range(1,len(max_Motion)+1)),max_Motion)\n",
    "plt.title('Max of Motion Readings for Devices')\n",
    "plt.xlabel('Devices')\n",
    "plt.ylabel('Max of Readings')\n",
    "# plt.savefig('max_Motion.jpg')\n",
    "plt.show()\n",
    "\n",
    "\n",
    "# Min\n",
    "# print(max(min_Motion))\n",
    "# print(min(min_Motion))\n",
    "Sorted_min = sorted(min_Motion)\n",
    "print(\"Min. analysis\")\n",
    "print(Sorted_min[0:3])\n",
    "print(Sorted_min[-3:][::-1])\n",
    "print(statistics.mean(min_Motion))\n",
    "# plot\n",
    "plt.plot(list(range(1,len(min_Motion)+1)),min_Motion)\n",
    "plt.title('min of Motion Readngs for Devices')\n",
    "plt.xlabel('Devices')\n",
    "plt.ylabel('Min of Readngs')\n",
    "# plt.savefig('min_Motion.jpg')\n",
    "plt.show()\n",
    "\n",
    "\n",
    "# Mean\n",
    "# print(max(mean_Motion))\n",
    "# print(min(mean_Motion))\n",
    "Sorted_amean = sorted(mean_Motion)\n",
    "print(\"Mean analysis\")\n",
    "print(Sorted_amean[0:3])\n",
    "print(Sorted_amean[-3:][::-1])\n",
    "print(statistics.mean(mean_Motion))\n",
    "# plot\n",
    "plt.plot(list(range(1,len(mean_Motion)+1)),mean_Motion)\n",
    "plt.title('Mean of Motion Readngs for Devices')\n",
    "plt.xlabel('Devices')\n",
    "plt.ylabel('Mean of Readings')\n",
    "# plt.savefig('mean_Motion.jpg')\n",
    "plt.show()"
   ]
  },
  {
   "cell_type": "markdown",
   "metadata": {},
   "source": [
    "Here, we done a simple statistical analysis for motion readings. First, we have 457 devices that have motion records. Motion is measured in /15 min. Each device collect different number of measurements. The min. number of collected measurements for a device are [1336, 1510, 1921, ...], while the max. are: [122561, 98559, 65429, ...]. The average length of measurements for a device is 15081.039387308534 records."
   ]
  },
  {
   "cell_type": "markdown",
   "metadata": {},
   "source": [
    "The max. readings per device are collected, where the least max. values are: [0.0, 0.0, 0.0, ...] /15 min, while the largest max. are: [253.0, 253.0, 251.0, ...] /15 min. The average max. value for a CO2 device is: 62.14660831509847 /15 min.\n",
    "\n",
    "The min. readings per device are collected, where the least min. values are: [0.0, 0.0, 0.0, ...] /15 min, while the largest min. are: [62.0, 59.0, 57.0, ...] /15 min. The average min. value for a CO2 device is: 7.649890590809628 /15 min.\n",
    "\n",
    "The mean readings per device are collected, where the least mean values are: [0.0, 0.0, 0.0, ...] /15 min, while the largest mean are: [86.54332129963899, 86.53174172544765, 86.31310281477593, ...] /15 min. The average mean value for a CO2 device is: 20.764992106598466 /15 min."
   ]
  },
  {
   "cell_type": "code",
   "execution_count": null,
   "metadata": {},
   "outputs": [],
   "source": [
    "df = pd.DataFrame(max_Motion)\n",
    "df.to_csv('max_Motion')"
   ]
  },
  {
   "cell_type": "code",
   "execution_count": null,
   "metadata": {},
   "outputs": [],
   "source": [
    "df = pd.DataFrame(min_Motion)\n",
    "df.to_csv('min_Motion')"
   ]
  },
  {
   "cell_type": "code",
   "execution_count": null,
   "metadata": {},
   "outputs": [],
   "source": [
    "df = pd.DataFrame(mean_Motion)\n",
    "df.to_csv('mean_Motion')"
   ]
  },
  {
   "cell_type": "markdown",
   "metadata": {},
   "source": [
    "# Average Sound Analysis"
   ]
  },
  {
   "cell_type": "code",
   "execution_count": null,
   "metadata": {},
   "outputs": [],
   "source": [
    "# Statistics Processing\n",
    "Sound_avg = Data_File1[\"sound_avg\"]\n",
    "count = 0\n",
    "num = 0\n",
    "len_Sound_avg = []\n",
    "max_Sound_avg = []\n",
    "min_Sound_avg = []\n",
    "avg_Sound_avg = []\n",
    "mean_Sound_avg = []\n",
    "median_Sound_avg = []\n",
    "variance_Sound_avg = []\n",
    "std_Sound_avg = []\n",
    "High_median_Sound_avg = []\n",
    "Low_median_Sound_avg = []\n",
    "\n",
    "for i in range (0,len(Devices_Headers)):\n",
    "    t = all_list[i]\n",
    "    Sound_avg_i = Sound_avg[t]\n",
    "    Sound_avg_i = [x for x in Sound_avg_i if str(x) != 'nan']\n",
    "    if len(Sound_avg_i) == 0:\n",
    "        count = count + 1\n",
    "    else:    \n",
    "        len_Sound_avg.append(len(Sound_avg_i))\n",
    "        max_Sound_avg.append(max(Sound_avg_i))\n",
    "        min_Sound_avg.append(min(Sound_avg_i))\n",
    "        avg_Sound_avg.append(sum(Sound_avg_i)/len(Sound_avg_i))\n",
    "        mean_Sound_avg.append(statistics.mean(Sound_avg_i))\n",
    "        median_Sound_avg.append(statistics.median(Sound_avg_i))\n",
    "        variance_Sound_avg.append(statistics.variance(Sound_avg_i))\n",
    "        std_Sound_avg.append(statistics.stdev(Sound_avg_i))\n",
    "        High_median_Sound_avg.append(statistics.median_high(Sound_avg_i))\n",
    "        Low_median_Sound_avg.append(statistics.median_low(Sound_avg_i))\n",
    "        \n",
    "        num = num +1\n",
    "        numm = str(num)\n",
    "        \n",
    "        id_deveui = Devices_Headers[i]\n",
    "#         id_str = str(id_deveui)\n",
    "        \n",
    "        plt.plot(t,Sound_avg[t])\n",
    "        plt.title('Sound_avg_' + id_deveui)\n",
    "        plt.xlabel('Samples')\n",
    "        plt.ylabel('Sound_avg readings for device')\n",
    "#             plt.savefig('Sound_avg_' + numm + '.jpg')\n",
    "        plt.show()\n"
   ]
  },
  {
   "cell_type": "code",
   "execution_count": null,
   "metadata": {},
   "outputs": [],
   "source": [
    "print(count)\n",
    "print(len(len_Sound_avg))"
   ]
  },
  {
   "cell_type": "code",
   "execution_count": null,
   "metadata": {},
   "outputs": [],
   "source": [
    "# Length\n",
    "# print(max(len_Sound_avg))\n",
    "# print(min(len_Sound_avg))\n",
    "Sorted_len = sorted(len_Sound_avg)\n",
    "print(\"Length analysis\")\n",
    "print(Sorted_len[0:3])\n",
    "print(Sorted_len[-3:][::-1])\n",
    "print(statistics.mean(len_Sound_avg))\n",
    "# plot\n",
    "plt.plot(list(range(1,len(len_Sound_avg)+1)),len_Sound_avg)\n",
    "plt.title('Length of Readings for Devices')\n",
    "plt.xlabel('Devices')\n",
    "plt.ylabel('Length of Readings')\n",
    "# plt.savefig('len_Sound_avg.jpg')\n",
    "plt.show()\n",
    "\n",
    "\n",
    "# Max\n",
    "# print(max(max_Sound_avg))\n",
    "# print(min(max_Sound_avg))\n",
    "Sorted_max = sorted(max_Sound_avg)\n",
    "print(\"Max. analysis\")\n",
    "print(Sorted_max[0:3])\n",
    "print(Sorted_max[-3:][::-1])\n",
    "print(statistics.mean(max_Sound_avg))\n",
    "# plot\n",
    "plt.plot(list(range(1,len(max_Sound_avg)+1)),max_Sound_avg)\n",
    "plt.title('Max of Sound_avg Readings for Devices')\n",
    "plt.xlabel('Devices')\n",
    "plt.ylabel('Max of Readings')\n",
    "# plt.savefig('max_Sound_avg.jpg')\n",
    "plt.show()\n",
    "\n",
    "\n",
    "# Min\n",
    "# print(max(min_Sound_avg))\n",
    "# print(min(min_Sound_avg))\n",
    "Sorted_min = sorted(min_Sound_avg)\n",
    "print(\"Min. analysis\")\n",
    "print(Sorted_min[0:3])\n",
    "print(Sorted_min[-3:][::-1])\n",
    "print(statistics.mean(min_Sound_avg))\n",
    "# plot\n",
    "plt.plot(list(range(1,len(min_Sound_avg)+1)),min_Sound_avg)\n",
    "plt.title('min of Sound_avg Readngs for Devices')\n",
    "plt.xlabel('Devices')\n",
    "plt.ylabel('Min of Readngs')\n",
    "# plt.savefig('min_Sound_avg.jpg')\n",
    "plt.show()\n",
    "\n",
    "\n",
    "# Mean\n",
    "# print(max(mean_Sound_avg))\n",
    "# print(min(mean_Sound_avg))\n",
    "Sorted_amean = sorted(mean_Sound_avg)\n",
    "print(\"Mean analysis\")\n",
    "print(Sorted_amean[0:3])\n",
    "print(Sorted_amean[-3:][::-1])\n",
    "print(statistics.mean(mean_Sound_avg))\n",
    "# plot\n",
    "plt.plot(list(range(1,len(mean_Sound_avg)+1)),mean_Sound_avg)\n",
    "plt.title('Mean of Sound_avg Readings for Devices')\n",
    "plt.xlabel('Devices')\n",
    "plt.ylabel('Mean of Readings')\n",
    "# plt.savefig('mean_Sound_avg.jpg')\n",
    "plt.show()"
   ]
  },
  {
   "cell_type": "markdown",
   "metadata": {},
   "source": [
    "Here, we done a simple statistical analysis for Sound readings. First, we have 119 Sound devices. Sound average is measured in decibel (dB). Each Sound device collect different number of measurements. The min. number of collected measurements for a Sound device are [2, 9269, 9284, ...], while the max. are: [122561, 58036, 16031, ...]. The average length of Sound measurements for a device is 15945.672268907563 records."
   ]
  },
  {
   "cell_type": "markdown",
   "metadata": {},
   "source": [
    "The max. readings per device are collected, where the least max. values are: [1.0, 48.0, 51.0, ...] dB, while the largest max. are: [70.0, 70.0, 70.0, ...] dB. The average max. value for a Sound device is: 62.11764705882353 dB.\n",
    "\n",
    "The min. readings per device are collected, where the least min. values are: [0.0, 34.0, 34.0, ...] dB, while the largest min. are: [39.0, 38.0, 38.0, ...] dB. The average min. value for a Sound device is: 33.857142857142854 dB.\n",
    "\n",
    "The mean readings per device are collected, where the least mean values are: [0.5, 34.11534695476206, 34.20711209890263, ...] dB, while the largest mean are: [59.35045116772824, 57.33471364402021, 54.807504078303424, ...] dB. The average mean value for a Sound device is: 36.970312656580184 dB."
   ]
  },
  {
   "cell_type": "code",
   "execution_count": null,
   "metadata": {},
   "outputs": [],
   "source": [
    "df = pd.DataFrame(max_Sound_avg)\n",
    "df.to_csv('max_Sound_avg')"
   ]
  },
  {
   "cell_type": "code",
   "execution_count": null,
   "metadata": {},
   "outputs": [],
   "source": [
    "df = pd.DataFrame(min_Sound_avg)\n",
    "df.to_csv('min_Sound_avg')"
   ]
  },
  {
   "cell_type": "code",
   "execution_count": null,
   "metadata": {},
   "outputs": [],
   "source": [
    "df = pd.DataFrame(mean_Sound_avg)\n",
    "df.to_csv('mean_Sound_avg')"
   ]
  },
  {
   "cell_type": "markdown",
   "metadata": {},
   "source": [
    "# Peak Sound Analysis"
   ]
  },
  {
   "cell_type": "code",
   "execution_count": null,
   "metadata": {},
   "outputs": [],
   "source": [
    "# Statistics Processing\n",
    "Sound_peak = Data_File1[\"sound_peak\"]\n",
    "count = 0\n",
    "num = 0\n",
    "len_Sound_peak = []\n",
    "max_Sound_peak = []\n",
    "min_Sound_peak = []\n",
    "avg_Sound_peak = []\n",
    "mean_Sound_peak = []\n",
    "median_Sound_peak = []\n",
    "variance_Sound_peak = []\n",
    "std_Sound_peak = []\n",
    "High_median_Sound_peak = []\n",
    "Low_median_Sound_peak = []\n",
    "\n",
    "for i in range (0,len(Devices_Headers)):\n",
    "    t = all_list[i]\n",
    "    Sound_peak_i = Sound_peak[t]\n",
    "    Sound_peak_i = [x for x in Sound_peak_i if str(x) != 'nan']\n",
    "    if len(Sound_peak_i) == 0:\n",
    "        count = count + 1\n",
    "    else:    \n",
    "        len_Sound_peak.append(len(Sound_peak_i))\n",
    "        max_Sound_peak.append(max(Sound_peak_i))\n",
    "        min_Sound_peak.append(min(Sound_peak_i))\n",
    "        avg_Sound_peak.append(sum(Sound_peak_i)/len(Sound_peak_i))\n",
    "        mean_Sound_peak.append(statistics.mean(Sound_peak_i))\n",
    "        median_Sound_peak.append(statistics.median(Sound_peak_i))\n",
    "        variance_Sound_peak.append(statistics.variance(Sound_peak_i))\n",
    "        std_Sound_peak.append(statistics.stdev(Sound_peak_i))\n",
    "        High_median_Sound_peak.append(statistics.median_high(Sound_peak_i))\n",
    "        Low_median_Sound_peak.append(statistics.median_low(Sound_peak_i))\n",
    "        \n",
    "        num = num +1\n",
    "        numm = str(num)\n",
    "        \n",
    "        id_deveui = Devices_Headers[i]\n",
    "#         id_str = str(id_deveui)\n",
    "        \n",
    "        plt.plot(t,Sound_peak[t])\n",
    "        plt.title('Sound_peak_' + id_deveui)\n",
    "        plt.xlabel('Samples')\n",
    "        plt.ylabel('Sound_peak readings for device')\n",
    "#             plt.savefig('Sound_peak_' + numm + '.jpg')\n",
    "        plt.show()\n"
   ]
  },
  {
   "cell_type": "code",
   "execution_count": null,
   "metadata": {},
   "outputs": [],
   "source": [
    "print(count)\n",
    "print(len(len_Sound_peak))"
   ]
  },
  {
   "cell_type": "code",
   "execution_count": null,
   "metadata": {},
   "outputs": [],
   "source": [
    "# Length\n",
    "# print(max(len_Sound_peak))\n",
    "# print(min(len_Sound_peak))\n",
    "Sorted_len = sorted(len_Sound_peak)\n",
    "print(\"Length analysis\")\n",
    "print(Sorted_len[0:3])\n",
    "print(Sorted_len[-3:][::-1])\n",
    "print(statistics.mean(len_Sound_peak))\n",
    "# plot\n",
    "plt.plot(list(range(1,len(len_Sound_peak)+1)),len_Sound_peak)\n",
    "plt.title('Length of Readings for Devices')\n",
    "plt.xlabel('Devices')\n",
    "plt.ylabel('Length of Readings')\n",
    "# plt.savefig('len_Sound_peak.jpg')\n",
    "plt.show()\n",
    "\n",
    "\n",
    "# Max\n",
    "# print(max(max_Sound_peak))\n",
    "# print(min(max_Sound_peak))\n",
    "Sorted_max = sorted(max_Sound_peak)\n",
    "print(\"Max. analysis\")\n",
    "print(Sorted_max[0:3])\n",
    "print(Sorted_max[-3:][::-1])\n",
    "print(statistics.mean(max_Sound_peak))\n",
    "# plot\n",
    "plt.plot(list(range(1,len(max_Sound_peak)+1)),max_Sound_peak)\n",
    "plt.title('Max of Sound_peak Readings for Devices')\n",
    "plt.xlabel('Devices')\n",
    "plt.ylabel('Max of Readings')\n",
    "# plt.savefig('max_Sound_peak.jpg')\n",
    "plt.show()\n",
    "\n",
    "\n",
    "# Min\n",
    "# print(max(min_Sound_peak))\n",
    "# print(min(min_Sound_peak))\n",
    "Sorted_min = sorted(min_Sound_peak)\n",
    "print(\"Min. analysis\")\n",
    "print(Sorted_min[0:3])\n",
    "print(Sorted_min[-3:][::-1])\n",
    "print(statistics.mean(min_Sound_peak))\n",
    "# plot\n",
    "plt.plot(list(range(1,len(min_Sound_peak)+1)),min_Sound_peak)\n",
    "plt.title('min of Sound_peak Readngs for Devices')\n",
    "plt.xlabel('Devices')\n",
    "plt.ylabel('Min of Readngs')\n",
    "# plt.savefig('min_Sound_peak.jpg')\n",
    "plt.show()\n",
    "\n",
    "\n",
    "# Mean\n",
    "# print(max(mean_Sound_peak))\n",
    "# print(min(mean_Sound_peak))\n",
    "Sorted_amean = sorted(mean_Sound_peak)\n",
    "print(\"Mean analysis\")\n",
    "print(Sorted_amean[0:3])\n",
    "print(Sorted_amean[-3:][::-1])\n",
    "print(statistics.mean(mean_Sound_peak))\n",
    "# plot\n",
    "plt.plot(list(range(1,len(mean_Sound_peak)+1)),mean_Sound_peak)\n",
    "plt.title('Mean of Sound_peak Readings for Devices')\n",
    "plt.xlabel('Devices')\n",
    "plt.ylabel('Mean of Readings')\n",
    "# plt.savefig('mean_Sound_peak.jpg')\n",
    "plt.show()"
   ]
  },
  {
   "cell_type": "markdown",
   "metadata": {},
   "source": [
    "Here, we done a simple statistical analysis for Sound readings. First, we have 119 Sound devices. Sound peak is measured in decibel (dB). Each Sound device collect different number of measurements. The min. number of collected measurements for a Sound device are [2, 9269, 9284, ...], while the max. are: [122561, 58036, 16031, ...]. The average length of Sound measurements for a device is 15945.672268907563 records."
   ]
  },
  {
   "cell_type": "markdown",
   "metadata": {},
   "source": [
    "The max. readings per device are collected, where the least max. values are: [86.0, 88.0, 88.0, ...] dB, while the largest max. are: [102.0, 99.0, 99.0, ...] dB. The average max. value for a CO2 device is: 96.73949579831933 dB.\n",
    "\n",
    "The min. readings per device are collected, where the least min. values are: [64.0, 64.0, 64.0, ...] dB, while the largest min. are: [102.0, 64.0, 64.0, ...] dB. The average min. value for a CO2 device is: 64.31932773109244 dB.\n",
    "\n",
    "The mean readings per device are collected, where the least mean values are: [64.14135034832996, 64.17973879279916, 64.20216724329265, ...] dB, while the largest mean are: [102.0, 73.2457888826502, 71.61827464327791, ...] dB. The average mean value for a CO2 device is: 66.11509327598034 dB."
   ]
  },
  {
   "cell_type": "code",
   "execution_count": null,
   "metadata": {},
   "outputs": [],
   "source": [
    "df = pd.DataFrame(max_Sound_peak)\n",
    "df.to_csv('max_Sound_peak')"
   ]
  },
  {
   "cell_type": "code",
   "execution_count": null,
   "metadata": {},
   "outputs": [],
   "source": [
    "df = pd.DataFrame(min_Sound_peak)\n",
    "df.to_csv('min_Sound_peak')"
   ]
  },
  {
   "cell_type": "code",
   "execution_count": null,
   "metadata": {},
   "outputs": [],
   "source": [
    "df = pd.DataFrame(mean_Sound_peak)\n",
    "df.to_csv('mean_Sound_peak')"
   ]
  },
  {
   "cell_type": "markdown",
   "metadata": {},
   "source": [
    "# Pressure Analysis"
   ]
  },
  {
   "cell_type": "code",
   "execution_count": null,
   "metadata": {},
   "outputs": [],
   "source": [
    "# Statistics Processing\n",
    "Pressure = Data_File1[\"pressure\"]\n",
    "count = 0\n",
    "num = 0\n",
    "len_Pressure = []\n",
    "max_Pressure = []\n",
    "min_Pressure = []\n",
    "avg_Pressure = []\n",
    "mean_Pressure = []\n",
    "median_Pressure = []\n",
    "variance_Pressure = []\n",
    "std_Pressure = []\n",
    "High_median_Pressure = []\n",
    "Low_median_Pressure = []\n",
    "\n",
    "for i in range (0,len(Devices_Headers)):\n",
    "    t = all_list[i]\n",
    "    Pressure_i = Pressure[t]\n",
    "    Pressure_i = [x for x in Pressure_i if str(x) != 'nan']\n",
    "    if len(Pressure_i) == 0:\n",
    "        count = count + 1\n",
    "    else:    \n",
    "        len_Pressure.append(len(Pressure_i))\n",
    "        max_Pressure.append(max(Pressure_i))\n",
    "        min_Pressure.append(min(Pressure_i))\n",
    "        avg_Pressure.append(sum(Pressure_i)/len(Pressure_i))\n",
    "        mean_Pressure.append(statistics.mean(Pressure_i))\n",
    "        median_Pressure.append(statistics.median(Pressure_i))\n",
    "        variance_Pressure.append(statistics.variance(Pressure_i))\n",
    "        std_Pressure.append(statistics.stdev(Pressure_i))\n",
    "        High_median_Pressure.append(statistics.median_high(Pressure_i))\n",
    "        Low_median_Pressure.append(statistics.median_low(Pressure_i))\n",
    "        \n",
    "        num = num +1\n",
    "        numm = str(num)\n",
    "        \n",
    "        id_deveui = Devices_Headers[i]\n",
    "#         id_str = str(id_deveui)\n",
    "        \n",
    "        plt.plot(t,Pressure[t])\n",
    "        plt.title('Pressure_' + id_deveui)\n",
    "        plt.xlabel('Samples')\n",
    "        plt.ylabel('Pressure readings for device')\n",
    "#             plt.savefig('Pressure_' + numm + '.jpg')\n",
    "        plt.show()\n"
   ]
  },
  {
   "cell_type": "code",
   "execution_count": null,
   "metadata": {},
   "outputs": [],
   "source": [
    "print(count)\n",
    "print(len(len_Pressure))"
   ]
  },
  {
   "cell_type": "code",
   "execution_count": null,
   "metadata": {},
   "outputs": [],
   "source": [
    "# Length\n",
    "# print(max(len_Pressure))\n",
    "# print(min(len_Pressure))\n",
    "Sorted_len = sorted(len_Pressure)\n",
    "print(\"Length analysis\")\n",
    "print(Sorted_len[0:3])\n",
    "print(Sorted_len[-3:][::-1])\n",
    "print(statistics.mean(len_Pressure))\n",
    "# plot\n",
    "plt.plot(list(range(1,len(len_Pressure)+1)),len_Pressure)\n",
    "plt.title('Length of Readings for Devices')\n",
    "plt.xlabel('Devices')\n",
    "plt.ylabel('Length of Readings')\n",
    "# plt.savefig('len_Pressure.jpg')\n",
    "plt.show()\n",
    "\n",
    "\n",
    "# Max\n",
    "# print(max(max_Pressure))\n",
    "# print(min(max_Pressure))\n",
    "Sorted_max = sorted(max_Pressure)\n",
    "print(\"Max. analysis\")\n",
    "print(Sorted_max[0:3])\n",
    "print(Sorted_max[-3:][::-1])\n",
    "print(statistics.mean(max_Pressure))\n",
    "# plot\n",
    "plt.plot(list(range(1,len(max_Pressure)+1)),max_Pressure)\n",
    "plt.title('Max of Pressure Readings for Devices')\n",
    "plt.xlabel('Devices')\n",
    "plt.ylabel('Max of Readings')\n",
    "# plt.savefig('max_Pressure.jpg')\n",
    "plt.show()\n",
    "\n",
    "\n",
    "# Min\n",
    "# print(max(min_Pressure))\n",
    "# print(min(min_Pressure))\n",
    "Sorted_min = sorted(min_Pressure)\n",
    "print(\"Min. analysis\")\n",
    "print(Sorted_min[0:3])\n",
    "print(Sorted_min[-3:][::-1])\n",
    "print(statistics.mean(min_Pressure))\n",
    "# plot\n",
    "plt.plot(list(range(1,len(min_Pressure)+1)),min_Pressure)\n",
    "plt.title('min of Pressure Readngs for Devices')\n",
    "plt.xlabel('Devices')\n",
    "plt.ylabel('Min of Readngs')\n",
    "# plt.savefig('min_Pressure.jpg')\n",
    "plt.show()\n",
    "\n",
    "\n",
    "# Mean\n",
    "# print(max(mean_Pressure))\n",
    "# print(min(mean_Pressure))\n",
    "Sorted_amean = sorted(mean_Pressure)\n",
    "print(\"Mean analysis\")\n",
    "print(Sorted_amean[0:3])\n",
    "print(Sorted_amean[-3:][::-1])\n",
    "print(statistics.mean(mean_Pressure))\n",
    "# plot\n",
    "plt.plot(list(range(1,len(mean_Pressure)+1)),mean_Pressure)\n",
    "plt.title('Mean of Pressure Readings for Devices')\n",
    "plt.xlabel('Devices')\n",
    "plt.ylabel('Mean of Readings')\n",
    "# plt.savefig('mean_Pressure.jpg')\n",
    "plt.show()"
   ]
  },
  {
   "cell_type": "markdown",
   "metadata": {},
   "source": [
    "Here, we done a simple statistical analysis for pressure readings. First, we have 17 pressure devices. pressure percentage is measured in pascal (pa). Each pressure device collect different number of measurements. The min. number of collected measurements for a pressure device are [211, 218, 266, ...], while the max. are: [11062, 11018, 10835, ...]. The average length of pressure measurements for a device is 6731.588235294118 records."
   ]
  },
  {
   "cell_type": "markdown",
   "metadata": {},
   "source": [
    "The max. readings per device are collected, where the least max. values are: [1.0201, 1.021, 1.0297, ...] pa, while the largest max. are: [4294.9673, 1.0388, 1.0384, ...] pa. The average max. value for a pressure device is: 253.61835294117648 pa.\n",
    "\n",
    "The min. readings per device are collected, where the least min. values are: [0.9711, 0.9712, 0.9715, ...] pa, while the largest min. are: [1.0059, 1.0047, 1.0041, ...] pa. The average min. value for a pressure device is: 0.9830588235294118 pa.\n",
    "\n",
    "\n",
    "The mean readings per device are collected, where the least mean values are: [1.0111729323308272, 1.0120536697247706, 1.0147601906491148, ...] pa, while the largest mean are: [739.1152682874191, 1.0246208609271523, 1.0232685487077535, ...] pa. The average mean value for a pressure device is: 44.43425560668273 pa."
   ]
  },
  {
   "cell_type": "code",
   "execution_count": null,
   "metadata": {},
   "outputs": [],
   "source": [
    "df = pd.DataFrame(max_Pressure)\n",
    "df.to_csv('max_Pressure')"
   ]
  },
  {
   "cell_type": "code",
   "execution_count": null,
   "metadata": {},
   "outputs": [],
   "source": [
    "df = pd.DataFrame(min_Pressure)\n",
    "df.to_csv('min_Pressure')"
   ]
  },
  {
   "cell_type": "code",
   "execution_count": null,
   "metadata": {},
   "outputs": [],
   "source": [
    "df = pd.DataFrame(mean_Pressure)\n",
    "df.to_csv('mean_Pressure')"
   ]
  },
  {
   "cell_type": "markdown",
   "metadata": {},
   "source": [
    "# Moisture Analysis"
   ]
  },
  {
   "cell_type": "code",
   "execution_count": null,
   "metadata": {},
   "outputs": [],
   "source": [
    "# Statistics Processing\n",
    "Moisture = Data_File1[\"moisture\"]\n",
    "count = 0\n",
    "num = 0\n",
    "len_Moisture = []\n",
    "max_Moisture = []\n",
    "min_Moisture = []\n",
    "avg_Moisture = []\n",
    "mean_Moisture = []\n",
    "median_Moisture = []\n",
    "variance_Moisture = []\n",
    "std_Moisture = []\n",
    "High_median_Moisture = []\n",
    "Low_median_Moisture = []\n",
    "\n",
    "for i in range (0,len(Devices_Headers)):\n",
    "    t = all_list[i]\n",
    "    Moisture_i = Moisture[t]\n",
    "    Moisture_i = [x for x in Moisture_i if str(x) != 'nan']\n",
    "    if len(Moisture_i) == 0:\n",
    "        count = count + 1\n",
    "    else:    \n",
    "        len_Moisture.append(len(Moisture_i))\n",
    "        max_Moisture.append(max(Moisture_i))\n",
    "        min_Moisture.append(min(Moisture_i))\n",
    "        avg_Moisture.append(sum(Moisture_i)/len(Moisture_i))\n",
    "        mean_Moisture.append(statistics.mean(Moisture_i))\n",
    "        median_Moisture.append(statistics.median(Moisture_i))\n",
    "        variance_Moisture.append(statistics.variance(Moisture_i))\n",
    "        std_Moisture.append(statistics.stdev(Moisture_i))\n",
    "        High_median_Moisture.append(statistics.median_high(Moisture_i))\n",
    "        Low_median_Moisture.append(statistics.median_low(Moisture_i))\n",
    "        \n",
    "        num = num +1\n",
    "        numm = str(num)\n",
    "        \n",
    "        id_deveui = Devices_Headers[i]\n",
    "#         id_str = str(id_deveui)\n",
    "        \n",
    "        plt.plot(t,Moisture[t])\n",
    "        plt.title('Moisture_' + id_deveui)\n",
    "        plt.xlabel('Samples')\n",
    "        plt.ylabel('Moisture readings for device')\n",
    "#             plt.savefig('Moisture_' + numm + '.jpg')\n",
    "        plt.show()\n"
   ]
  },
  {
   "cell_type": "code",
   "execution_count": null,
   "metadata": {},
   "outputs": [],
   "source": [
    "print(count)\n",
    "print(len(len_Moisture))"
   ]
  },
  {
   "cell_type": "code",
   "execution_count": null,
   "metadata": {},
   "outputs": [],
   "source": [
    "# Length\n",
    "# print(max(len_Moisture))\n",
    "# print(min(len_Moisture))\n",
    "Sorted_len = sorted(len_Moisture)\n",
    "print(\"Length analysis\")\n",
    "print(Sorted_len[0:3])\n",
    "print(Sorted_len[-3:][::-1])\n",
    "print(statistics.mean(len_Moisture))\n",
    "# plot\n",
    "plt.plot(list(range(1,len(len_Moisture)+1)),len_Moisture)\n",
    "plt.title('Length of Readings for Devices')\n",
    "plt.xlabel('Devices')\n",
    "plt.ylabel('Length of Readings')\n",
    "# plt.savefig('len_Moisture.jpg')\n",
    "plt.show()\n",
    "\n",
    "\n",
    "# Max\n",
    "# print(max(max_Moisture))\n",
    "# print(min(max_Moisture))\n",
    "Sorted_max = sorted(max_Moisture)\n",
    "print(\"Max. analysis\")\n",
    "print(Sorted_max[0:3])\n",
    "print(Sorted_max[-3:][::-1])\n",
    "print(statistics.mean(max_Moisture))\n",
    "# plot\n",
    "plt.plot(list(range(1,len(max_Moisture)+1)),max_Moisture)\n",
    "plt.title('Max of Moisture Readings for Devices')\n",
    "plt.xlabel('Devices')\n",
    "plt.ylabel('Max of Readings')\n",
    "# plt.savefig('max_Moisture.jpg')\n",
    "plt.show()\n",
    "\n",
    "\n",
    "# Min\n",
    "# print(max(min_Moisture))\n",
    "# print(min(min_Moisture))\n",
    "Sorted_min = sorted(min_Moisture)\n",
    "print(\"Min. analysis\")\n",
    "print(Sorted_min[0:3])\n",
    "print(Sorted_min[-3:][::-1])\n",
    "print(statistics.mean(min_Moisture))\n",
    "# plot\n",
    "plt.plot(list(range(1,len(min_Moisture)+1)),min_Moisture)\n",
    "plt.title('min of Moisture Readngs for Devices')\n",
    "plt.xlabel('Devices')\n",
    "plt.ylabel('Min of Readngs')\n",
    "# plt.savefig('min_Moisture.jpg')\n",
    "plt.show()\n",
    "\n",
    "\n",
    "# Mean\n",
    "# print(max(mean_Moisture))\n",
    "# print(min(mean_Moisture))\n",
    "Sorted_amean = sorted(mean_Moisture)\n",
    "print(\"Mean analysis\")\n",
    "print(Sorted_amean[0:3])\n",
    "print(Sorted_amean[-3:][::-1])\n",
    "print(statistics.mean(mean_Moisture))\n",
    "# plot\n",
    "plt.plot(list(range(1,len(mean_Moisture)+1)),mean_Moisture)\n",
    "plt.title('Mean of Moisture Readings for Devices')\n",
    "plt.xlabel('Devices')\n",
    "plt.ylabel('Mean of Readings')\n",
    "# plt.savefig('mean_Moisture.jpg')\n",
    "plt.show()"
   ]
  },
  {
   "cell_type": "markdown",
   "metadata": {},
   "source": [
    "Here, we done a simple statistical analysis for moisture readings. First, we have 17 moisture devices. moisture percentage is measured in moisture units (MU). Each moisture device collect different number of measurements. The min. number of collected measurements for a moisture device are [211, 218, 266, ...], while the max. are: [11062, 11018, 10835, ...]. The average length of moisture measurements for a device is 6731.588235294118 records."
   ]
  },
  {
   "cell_type": "markdown",
   "metadata": {},
   "source": [
    "The max. readings per device are collected, where the least max. values are: [27.0, 28.0, 29.0, ...] MU, while the largest max. are: [4369.0, 4368.0, 4366.0, ...] MU. The average max. value for a moisture device is: 1562.4117647058824 MU.\n",
    "\n",
    "The min. readings per device are collected, where the least min. values are: [0.0, 0.0, 0.0, ...] MU, while the largest min. are: [4349.0, 33.0, 25.0, ...] MU. The average min. value for a moisture device is: 264.6470588235294 MU.\n",
    "\n",
    "The mean readings per device are collected, where the least mean values are: [18.833235409322366, 20.680256734767674, 22.49386248269497, ...] MU, while the largest mean are: [4349.428934470866, 874.2417061611375, 652.139303482587, ...] MU. The average mean value for a moisture device is: 390.8938552427071 MU."
   ]
  },
  {
   "cell_type": "code",
   "execution_count": null,
   "metadata": {},
   "outputs": [],
   "source": [
    "df = pd.DataFrame(max_Moisture)\n",
    "df.to_csv('max_Moisture')"
   ]
  },
  {
   "cell_type": "code",
   "execution_count": null,
   "metadata": {},
   "outputs": [],
   "source": [
    "df = pd.DataFrame(min_Moisture)\n",
    "df.to_csv('min_Moisture')"
   ]
  },
  {
   "cell_type": "code",
   "execution_count": null,
   "metadata": {},
   "outputs": [],
   "source": [
    "df = pd.DataFrame(mean_Moisture)\n",
    "df.to_csv('mean_Moisture')"
   ]
  },
  {
   "cell_type": "code",
   "execution_count": null,
   "metadata": {},
   "outputs": [],
   "source": []
  }
 ],
 "metadata": {
  "kernelspec": {
   "display_name": "Python 3",
   "language": "python",
   "name": "python3"
  },
  "language_info": {
   "codemirror_mode": {
    "name": "ipython",
    "version": 3
   },
   "file_extension": ".py",
   "mimetype": "text/x-python",
   "name": "python",
   "nbconvert_exporter": "python",
   "pygments_lexer": "ipython3",
   "version": "3.8.5"
  }
 },
 "nbformat": 4,
 "nbformat_minor": 4
}
