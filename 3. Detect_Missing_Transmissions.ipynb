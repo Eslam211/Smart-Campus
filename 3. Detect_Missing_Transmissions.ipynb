{
 "cells": [
  {
   "cell_type": "markdown",
   "metadata": {},
   "source": [
    "# Import Packages"
   ]
  },
  {
   "cell_type": "code",
   "execution_count": 1,
   "metadata": {},
   "outputs": [],
   "source": [
    "import pandas as pd\n",
    "import numpy as np\n",
    "import matplotlib.pyplot as plt\n",
    "%matplotlib inline\n",
    "\n",
    "from collections import Counter\n",
    "import json\n",
    "import math\n",
    "import statistics"
   ]
  },
  {
   "cell_type": "markdown",
   "metadata": {},
   "source": [
    "# Upload Datasets"
   ]
  },
  {
   "cell_type": "code",
   "execution_count": 2,
   "metadata": {},
   "outputs": [],
   "source": [
    "Data_File1 = pd.read_csv (r'/homedir01/eeldeeb19/Oulu Data/sc-export-2021022500-elsys.csv')"
   ]
  },
  {
   "cell_type": "code",
   "execution_count": 3,
   "metadata": {},
   "outputs": [
    {
     "data": {
      "text/html": [
       "<div>\n",
       "<style scoped>\n",
       "    .dataframe tbody tr th:only-of-type {\n",
       "        vertical-align: middle;\n",
       "    }\n",
       "\n",
       "    .dataframe tbody tr th {\n",
       "        vertical-align: top;\n",
       "    }\n",
       "\n",
       "    .dataframe thead th {\n",
       "        text-align: right;\n",
       "    }\n",
       "</style>\n",
       "<table border=\"1\" class=\"dataframe\">\n",
       "  <thead>\n",
       "    <tr style=\"text-align: right;\">\n",
       "      <th></th>\n",
       "      <th>time</th>\n",
       "      <th>deveui</th>\n",
       "      <th>temperature</th>\n",
       "      <th>humidity</th>\n",
       "      <th>light</th>\n",
       "      <th>motion</th>\n",
       "      <th>co2</th>\n",
       "      <th>battery</th>\n",
       "      <th>sound_avg</th>\n",
       "      <th>sound_peak</th>\n",
       "      <th>moisture</th>\n",
       "      <th>pressure</th>\n",
       "      <th>acceleration_x</th>\n",
       "      <th>acceleration_y</th>\n",
       "      <th>acceleration_z</th>\n",
       "    </tr>\n",
       "  </thead>\n",
       "  <tbody>\n",
       "    <tr>\n",
       "      <th>0</th>\n",
       "      <td>1596240002191</td>\n",
       "      <td>a8-17-58-ff-fe-04-64-6b</td>\n",
       "      <td>21.4</td>\n",
       "      <td>44.0</td>\n",
       "      <td>0.0</td>\n",
       "      <td>79.0</td>\n",
       "      <td>NaN</td>\n",
       "      <td>3.635</td>\n",
       "      <td>34.0</td>\n",
       "      <td>64.0</td>\n",
       "      <td>NaN</td>\n",
       "      <td>NaN</td>\n",
       "      <td>NaN</td>\n",
       "      <td>NaN</td>\n",
       "      <td>NaN</td>\n",
       "    </tr>\n",
       "    <tr>\n",
       "      <th>1</th>\n",
       "      <td>1596240006323</td>\n",
       "      <td>a8-17-58-ff-fe-04-63-af</td>\n",
       "      <td>21.5</td>\n",
       "      <td>46.0</td>\n",
       "      <td>0.0</td>\n",
       "      <td>86.0</td>\n",
       "      <td>NaN</td>\n",
       "      <td>3.638</td>\n",
       "      <td>34.0</td>\n",
       "      <td>64.0</td>\n",
       "      <td>NaN</td>\n",
       "      <td>NaN</td>\n",
       "      <td>NaN</td>\n",
       "      <td>NaN</td>\n",
       "      <td>NaN</td>\n",
       "    </tr>\n",
       "    <tr>\n",
       "      <th>2</th>\n",
       "      <td>1596240010305</td>\n",
       "      <td>a8-17-58-ff-fe-04-63-b0</td>\n",
       "      <td>21.5</td>\n",
       "      <td>47.0</td>\n",
       "      <td>0.0</td>\n",
       "      <td>76.0</td>\n",
       "      <td>NaN</td>\n",
       "      <td>3.638</td>\n",
       "      <td>34.0</td>\n",
       "      <td>64.0</td>\n",
       "      <td>NaN</td>\n",
       "      <td>NaN</td>\n",
       "      <td>NaN</td>\n",
       "      <td>NaN</td>\n",
       "      <td>NaN</td>\n",
       "    </tr>\n",
       "    <tr>\n",
       "      <th>3</th>\n",
       "      <td>1596240012968</td>\n",
       "      <td>a8-17-58-ff-fe-03-0f-71</td>\n",
       "      <td>21.5</td>\n",
       "      <td>45.0</td>\n",
       "      <td>0.0</td>\n",
       "      <td>5.0</td>\n",
       "      <td>500.0</td>\n",
       "      <td>3.684</td>\n",
       "      <td>NaN</td>\n",
       "      <td>NaN</td>\n",
       "      <td>NaN</td>\n",
       "      <td>NaN</td>\n",
       "      <td>NaN</td>\n",
       "      <td>NaN</td>\n",
       "      <td>NaN</td>\n",
       "    </tr>\n",
       "    <tr>\n",
       "      <th>4</th>\n",
       "      <td>1596240013257</td>\n",
       "      <td>a8-17-58-ff-fe-03-10-45</td>\n",
       "      <td>21.5</td>\n",
       "      <td>47.0</td>\n",
       "      <td>0.0</td>\n",
       "      <td>5.0</td>\n",
       "      <td>479.0</td>\n",
       "      <td>3.686</td>\n",
       "      <td>NaN</td>\n",
       "      <td>NaN</td>\n",
       "      <td>NaN</td>\n",
       "      <td>NaN</td>\n",
       "      <td>NaN</td>\n",
       "      <td>NaN</td>\n",
       "      <td>NaN</td>\n",
       "    </tr>\n",
       "  </tbody>\n",
       "</table>\n",
       "</div>"
      ],
      "text/plain": [
       "            time                   deveui  temperature  humidity  light  \\\n",
       "0  1596240002191  a8-17-58-ff-fe-04-64-6b         21.4      44.0    0.0   \n",
       "1  1596240006323  a8-17-58-ff-fe-04-63-af         21.5      46.0    0.0   \n",
       "2  1596240010305  a8-17-58-ff-fe-04-63-b0         21.5      47.0    0.0   \n",
       "3  1596240012968  a8-17-58-ff-fe-03-0f-71         21.5      45.0    0.0   \n",
       "4  1596240013257  a8-17-58-ff-fe-03-10-45         21.5      47.0    0.0   \n",
       "\n",
       "   motion    co2  battery  sound_avg  sound_peak  moisture  pressure  \\\n",
       "0    79.0    NaN    3.635       34.0        64.0       NaN       NaN   \n",
       "1    86.0    NaN    3.638       34.0        64.0       NaN       NaN   \n",
       "2    76.0    NaN    3.638       34.0        64.0       NaN       NaN   \n",
       "3     5.0  500.0    3.684        NaN         NaN       NaN       NaN   \n",
       "4     5.0  479.0    3.686        NaN         NaN       NaN       NaN   \n",
       "\n",
       "   acceleration_x  acceleration_y  acceleration_z  \n",
       "0             NaN             NaN             NaN  \n",
       "1             NaN             NaN             NaN  \n",
       "2             NaN             NaN             NaN  \n",
       "3             NaN             NaN             NaN  \n",
       "4             NaN             NaN             NaN  "
      ]
     },
     "execution_count": 3,
     "metadata": {},
     "output_type": "execute_result"
    }
   ],
   "source": [
    "Data_File1.head()"
   ]
  },
  {
   "cell_type": "markdown",
   "metadata": {},
   "source": [
    "# Extract Time Columns"
   ]
  },
  {
   "cell_type": "code",
   "execution_count": 4,
   "metadata": {},
   "outputs": [],
   "source": [
    "Time_1 = Data_File1[\"time\"]"
   ]
  },
  {
   "cell_type": "markdown",
   "metadata": {},
   "source": [
    "# Decode Time per device for File 1"
   ]
  },
  {
   "cell_type": "markdown",
   "metadata": {},
   "source": [
    "Here, we collect the readings of each device individullay to detect the failed transmission of each device."
   ]
  },
  {
   "cell_type": "code",
   "execution_count": 5,
   "metadata": {},
   "outputs": [
    {
     "data": {
      "text/plain": [
       "468"
      ]
     },
     "execution_count": 5,
     "metadata": {},
     "output_type": "execute_result"
    }
   ],
   "source": [
    "Deveui_1 = Data_File1[\"deveui\"]\n",
    "Devices_1 = dict(Counter(Deveui_1))\n",
    "len(Devices_1)\n",
    "# print(a)"
   ]
  },
  {
   "cell_type": "code",
   "execution_count": 6,
   "metadata": {},
   "outputs": [],
   "source": [
    "Devices_Headers_1 = list(Devices_1.keys())\n",
    "# print(Devices_Headers_1)\n",
    "Deveui_lis_1 = list(Deveui_1)"
   ]
  },
  {
   "cell_type": "code",
   "execution_count": 7,
   "metadata": {},
   "outputs": [
    {
     "name": "stderr",
     "output_type": "stream",
     "text": [
      "IOPub data rate exceeded.\n",
      "The notebook server will temporarily stop sending output\n",
      "to the client in order to avoid crashing it.\n",
      "To change this limit, set the config variable\n",
      "`--NotebookApp.iopub_data_rate_limit`.\n",
      "\n",
      "Current values:\n",
      "NotebookApp.iopub_data_rate_limit=1000000.0 (bytes/sec)\n",
      "NotebookApp.rate_limit_window=3.0 (secs)\n",
      "\n"
     ]
    }
   ],
   "source": [
    "all_list_1 = []\n",
    "for i in range (0,len(Devices_Headers_1)) :\n",
    "    res_list_1 = []\n",
    "    for j in range (0,len(Deveui_lis_1)) :\n",
    "        if Deveui_lis_1[j] == Devices_Headers_1[i] : \n",
    "            res_list_1.append(j)\n",
    "    all_list_1.append(res_list_1)\n",
    "#print(Deveui_lis_1.index(it[256]))\n",
    "print(all_list_1)"
   ]
  },
  {
   "cell_type": "code",
   "execution_count": 8,
   "metadata": {},
   "outputs": [
    {
     "name": "stdout",
     "output_type": "stream",
     "text": [
      "468\n"
     ]
    }
   ],
   "source": [
    "print(len(all_list_1))"
   ]
  },
  {
   "cell_type": "code",
   "execution_count": 12,
   "metadata": {},
   "outputs": [
    {
     "name": "stdout",
     "output_type": "stream",
     "text": [
      "468\n"
     ]
    }
   ],
   "source": [
    "print(len(Devices_Headers_1))"
   ]
  },
  {
   "cell_type": "markdown",
   "metadata": {},
   "source": [
    "# Add Missing Data for Some Devices"
   ]
  },
  {
   "cell_type": "markdown",
   "metadata": {},
   "source": [
    "We rely on the fact that each device should transmit every 15 minutes. Therefore, we detect the failed transmission whenever there is no transmission after 15 minutes from the last transmission."
   ]
  },
  {
   "cell_type": "markdown",
   "metadata": {},
   "source": [
    "We add a row of zeros whenever a failed transmission is detected. This row has the time stamp of the transmission that is missing and zeros in the parameters that should have been measured by the sensors."
   ]
  },
  {
   "cell_type": "code",
   "execution_count": 13,
   "metadata": {},
   "outputs": [],
   "source": [
    "Co2 = Data_File1[\"co2\"]\n",
    "temperature = Data_File1[\"temperature\"]\n",
    "humidity = Data_File1[\"humidity\"]\n",
    "light = Data_File1[\"light\"]\n",
    "motion = Data_File1[\"motion\"]\n",
    "battery = Data_File1[\"battery\"]\n",
    "sound_avg = Data_File1[\"sound_avg\"]\n",
    "sound_peak = Data_File1[\"sound_peak\"]\n",
    "moisture = Data_File1[\"moisture\"]\n",
    "pressure = Data_File1[\"pressure\"]\n",
    "TIME_1 = Data_File1[\"time\"]\n",
    "All_MISSES = 0\n",
    "All_Lengths = 0\n",
    "\n",
    "count = 0\n",
    "\n",
    "for i in range (0,len(Devices_Headers_1)):\n",
    "    t = all_list_1[i]\n",
    "    Co2_i = Co2[t]\n",
    "    Co2_i = [kk for kk in Co2_i if str(kk) != 'nan']\n",
    "    if len(Co2_i) == 0:\n",
    "        count = count + 1\n",
    "    else:\n",
    "        Co2_i = Co2[t]\n",
    "        temperature_i = temperature[t]\n",
    "        humidity_i = humidity[t]\n",
    "        light_i = light[t]\n",
    "        motion_i = motion[t]\n",
    "        battery_i = battery[t]\n",
    "        sound_avg_i = sound_avg[t]\n",
    "        sound_peak_i = sound_peak[t]\n",
    "        moisture_i = moisture[t]\n",
    "        pressure_i = pressure[t]\n",
    "        \n",
    "        TIME_1_i = TIME_1[t]\n",
    "        TIME_1_i = [x for x in TIME_1_i if str(x) != 'nan']\n",
    "        TIME_1_i = np.array(TIME_1_i)\n",
    "        \n",
    "        #id_str = str(i)\n",
    "\n",
    "        Device = np.stack((TIME_1_i,Co2_i,temperature_i,humidity_i,light_i,motion_i,battery_i,sound_avg_i,sound_peak_i,moisture_i,pressure_i),axis=-1)\n",
    "        Device_df = pd.DataFrame(data = Device,columns = ['Time','Co2','Temperature','Humidity','Light','Motion','Battery','Sound_avg','Sound_peak','Moisture','Pressure'])\n",
    "        Device_df.to_csv('Dev_' + Devices_Headers_1[i] + '.csv', index=True, header=True, sep=',')        \n",
    "        \n",
    "        \n",
    "        New_Co2 = Co2_i.copy()\n",
    "        New_Co2 = New_Co2.to_numpy()\n",
    "        New_temperature = temperature_i.copy()\n",
    "        New_temperature = New_temperature.to_numpy()\n",
    "        New_humidity = humidity_i.copy()\n",
    "        New_humidity = New_humidity.to_numpy()\n",
    "        New_light = light_i.copy()\n",
    "        New_light = New_light.to_numpy()\n",
    "        New_motion = motion_i.copy()\n",
    "        New_motion = New_motion.to_numpy()\n",
    "        New_battery = battery_i.copy()\n",
    "        New_battery = New_battery.to_numpy()\n",
    "        New_sound_avg = sound_avg_i.copy()\n",
    "        New_sound_avg = New_sound_avg.to_numpy()\n",
    "        New_sound_peak = sound_peak_i.copy()\n",
    "        New_sound_peak = New_sound_peak.to_numpy()\n",
    "        New_moisture = moisture_i.copy()\n",
    "        New_moisture = New_moisture.to_numpy()\n",
    "        New_pressure = pressure_i.copy()\n",
    "        New_pressure = New_pressure.to_numpy()\n",
    "        \n",
    "        Time_Diff_1_i = []\n",
    "\n",
    "\n",
    "        for j in range(1,len(TIME_1_i)):\n",
    "            Time_Diff_1_i.append(TIME_1_i[j]-TIME_1_i[j-1])\n",
    "\n",
    "        Time_Diff_i_minutes = [l/(1000*60) for l in Time_Diff_1_i]\n",
    "        EXTRA_TIME_IDX = [j for j in range(len(Time_Diff_i_minutes)) if(Time_Diff_i_minutes[j]>29.5)]\n",
    "\n",
    "        MISSES = []\n",
    "        EXTRA_NEW = EXTRA_TIME_IDX.copy()\n",
    "        EXTRA_NEW.append(0)\n",
    "\n",
    "\n",
    "        for j in range(0,len(EXTRA_TIME_IDX)):\n",
    "            Num_Miss = math.floor(Time_Diff_i_minutes[EXTRA_TIME_IDX[j]]/14.75)-1\n",
    "            MISSES.append(Num_Miss)\n",
    "        \n",
    "        NEW_IDX_2 = np.insert(np.cumsum(MISSES,axis=0),0,0)\n",
    "        NEW_IDX = EXTRA_NEW+NEW_IDX_2\n",
    "        NEW_IDX = NEW_IDX[0:len(NEW_IDX)-1]\n",
    "\n",
    "\n",
    "        for j in range(0,len(EXTRA_TIME_IDX)):\n",
    "            INSERTION = []\n",
    "            INSERTION_CO2 = []\n",
    "            for k in range(0,MISSES[j]):\n",
    "                INSERTION.append(np.sum([TIME_1_i[NEW_IDX[j]],900000*(k+1)]))\n",
    "                INSERTION_CO2.append(0)\n",
    "            TIME_1_i = np.insert(TIME_1_i,NEW_IDX[j]+1,INSERTION)\n",
    "            New_Co2 = np.insert(New_Co2,NEW_IDX[j]+1,INSERTION_CO2)\n",
    "            New_temperature = np.insert(New_temperature,NEW_IDX[j]+1,INSERTION_CO2)\n",
    "            New_humidity = np.insert(New_humidity,NEW_IDX[j]+1,INSERTION_CO2)\n",
    "            New_light = np.insert(New_light,NEW_IDX[j]+1,INSERTION_CO2)\n",
    "            New_motion = np.insert(New_motion,NEW_IDX[j]+1,INSERTION_CO2)\n",
    "            New_battery = np.insert(New_battery,NEW_IDX[j]+1,INSERTION_CO2)\n",
    "            New_sound_avg = np.insert(New_sound_avg,NEW_IDX[j]+1,INSERTION_CO2)\n",
    "            New_sound_peak = np.insert(New_sound_peak,NEW_IDX[j]+1,INSERTION_CO2)\n",
    "            New_moisture = np.insert(New_moisture,NEW_IDX[j]+1,INSERTION_CO2)\n",
    "            New_pressure = np.insert(New_pressure,NEW_IDX[j]+1,INSERTION_CO2)\n",
    "        \n",
    "        MISS_NUM = np.zeros(shape=(len(New_Co2)))\n",
    "        MISS_NUM[:] = np.NaN\n",
    "        MISS_NUM[0] = np.sum(MISSES)\n",
    "        Error = np.zeros(shape=(len(New_Co2)))\n",
    "        Error[:] = np.NaN\n",
    "        Error[0] = (MISS_NUM[0]/len(New_Co2))*100\n",
    "        All_MISSES = All_MISSES+MISS_NUM[0]\n",
    "        All_Lengths = All_Lengths+len(New_Co2)\n",
    "        \n",
    "        Device_new = np.stack((TIME_1_i,New_Co2,New_temperature,New_humidity,New_light,New_motion,New_battery,New_sound_avg,New_sound_peak,New_moisture,New_pressure,MISS_NUM,Error),axis=-1)\n",
    "        Device_new_df = pd.DataFrame(data = Device_new,columns = ['Time','Co2','Temperature','Humidity','Light','Motion','Battery','Sound_avg','Sound_peak','Moisture','Pressure','Misses','Error'])\n",
    "        Device_new_df.to_csv('Dev_' + Devices_Headers_1[i] + '_new.csv', index=True, header=True, sep=',')"
   ]
  },
  {
   "cell_type": "markdown",
   "metadata": {},
   "source": [
    "In addition, we calculate the percentage of error for each device. We save the new file as csv file with the ID of the device_new. Therefore, we have a folder with the original file which has the ID of the device and a new file where we detect the failed transmissions with the name ID_new"
   ]
  },
  {
   "cell_type": "code",
   "execution_count": null,
   "metadata": {},
   "outputs": [],
   "source": []
  }
 ],
 "metadata": {
  "kernelspec": {
   "display_name": "Python 3",
   "language": "python",
   "name": "python3"
  },
  "language_info": {
   "codemirror_mode": {
    "name": "ipython",
    "version": 3
   },
   "file_extension": ".py",
   "mimetype": "text/x-python",
   "name": "python",
   "nbconvert_exporter": "python",
   "pygments_lexer": "ipython3",
   "version": "3.8.5"
  }
 },
 "nbformat": 4,
 "nbformat_minor": 4
}
