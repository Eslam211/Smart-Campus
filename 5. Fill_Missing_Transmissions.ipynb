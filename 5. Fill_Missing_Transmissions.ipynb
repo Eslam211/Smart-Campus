{
 "cells": [
  {
   "cell_type": "markdown",
   "metadata": {},
   "source": [
    "# Import Packages"
   ]
  },
  {
   "cell_type": "code",
   "execution_count": 1,
   "metadata": {},
   "outputs": [],
   "source": [
    "import pandas as pd\n",
    "import numpy as np\n",
    "import matplotlib.pyplot as plt\n",
    "%matplotlib inline\n",
    "\n",
    "from collections import Counter\n",
    "import json\n",
    "import math\n",
    "import statistics\n",
    "\n",
    "import seaborn\n",
    "from sklearn import preprocessing\n",
    "from keras.layers.core import Dense, Activation, Dropout\n",
    "from keras.layers.recurrent import LSTM\n",
    "from keras.models import Sequential\n",
    "import tensorflow as tf\n",
    "from sklearn.impute import KNNImputer"
   ]
  },
  {
   "cell_type": "markdown",
   "metadata": {},
   "source": [
    "# Upload Datasets"
   ]
  },
  {
   "cell_type": "code",
   "execution_count": 2,
   "metadata": {},
   "outputs": [],
   "source": [
    "Data_File1 = pd.read_csv (r'/homedir01/eeldeeb19/Oulu Data/sc-export-2021022500-elsys.csv')"
   ]
  },
  {
   "cell_type": "code",
   "execution_count": 3,
   "metadata": {},
   "outputs": [
    {
     "data": {
      "text/html": [
       "<div>\n",
       "<style scoped>\n",
       "    .dataframe tbody tr th:only-of-type {\n",
       "        vertical-align: middle;\n",
       "    }\n",
       "\n",
       "    .dataframe tbody tr th {\n",
       "        vertical-align: top;\n",
       "    }\n",
       "\n",
       "    .dataframe thead th {\n",
       "        text-align: right;\n",
       "    }\n",
       "</style>\n",
       "<table border=\"1\" class=\"dataframe\">\n",
       "  <thead>\n",
       "    <tr style=\"text-align: right;\">\n",
       "      <th></th>\n",
       "      <th>time</th>\n",
       "      <th>deveui</th>\n",
       "      <th>temperature</th>\n",
       "      <th>humidity</th>\n",
       "      <th>light</th>\n",
       "      <th>motion</th>\n",
       "      <th>co2</th>\n",
       "      <th>battery</th>\n",
       "      <th>sound_avg</th>\n",
       "      <th>sound_peak</th>\n",
       "      <th>moisture</th>\n",
       "      <th>pressure</th>\n",
       "      <th>acceleration_x</th>\n",
       "      <th>acceleration_y</th>\n",
       "      <th>acceleration_z</th>\n",
       "    </tr>\n",
       "  </thead>\n",
       "  <tbody>\n",
       "    <tr>\n",
       "      <th>0</th>\n",
       "      <td>1596240002191</td>\n",
       "      <td>a8-17-58-ff-fe-04-64-6b</td>\n",
       "      <td>21.4</td>\n",
       "      <td>44.0</td>\n",
       "      <td>0.0</td>\n",
       "      <td>79.0</td>\n",
       "      <td>NaN</td>\n",
       "      <td>3.635</td>\n",
       "      <td>34.0</td>\n",
       "      <td>64.0</td>\n",
       "      <td>NaN</td>\n",
       "      <td>NaN</td>\n",
       "      <td>NaN</td>\n",
       "      <td>NaN</td>\n",
       "      <td>NaN</td>\n",
       "    </tr>\n",
       "    <tr>\n",
       "      <th>1</th>\n",
       "      <td>1596240006323</td>\n",
       "      <td>a8-17-58-ff-fe-04-63-af</td>\n",
       "      <td>21.5</td>\n",
       "      <td>46.0</td>\n",
       "      <td>0.0</td>\n",
       "      <td>86.0</td>\n",
       "      <td>NaN</td>\n",
       "      <td>3.638</td>\n",
       "      <td>34.0</td>\n",
       "      <td>64.0</td>\n",
       "      <td>NaN</td>\n",
       "      <td>NaN</td>\n",
       "      <td>NaN</td>\n",
       "      <td>NaN</td>\n",
       "      <td>NaN</td>\n",
       "    </tr>\n",
       "    <tr>\n",
       "      <th>2</th>\n",
       "      <td>1596240010305</td>\n",
       "      <td>a8-17-58-ff-fe-04-63-b0</td>\n",
       "      <td>21.5</td>\n",
       "      <td>47.0</td>\n",
       "      <td>0.0</td>\n",
       "      <td>76.0</td>\n",
       "      <td>NaN</td>\n",
       "      <td>3.638</td>\n",
       "      <td>34.0</td>\n",
       "      <td>64.0</td>\n",
       "      <td>NaN</td>\n",
       "      <td>NaN</td>\n",
       "      <td>NaN</td>\n",
       "      <td>NaN</td>\n",
       "      <td>NaN</td>\n",
       "    </tr>\n",
       "    <tr>\n",
       "      <th>3</th>\n",
       "      <td>1596240012968</td>\n",
       "      <td>a8-17-58-ff-fe-03-0f-71</td>\n",
       "      <td>21.5</td>\n",
       "      <td>45.0</td>\n",
       "      <td>0.0</td>\n",
       "      <td>5.0</td>\n",
       "      <td>500.0</td>\n",
       "      <td>3.684</td>\n",
       "      <td>NaN</td>\n",
       "      <td>NaN</td>\n",
       "      <td>NaN</td>\n",
       "      <td>NaN</td>\n",
       "      <td>NaN</td>\n",
       "      <td>NaN</td>\n",
       "      <td>NaN</td>\n",
       "    </tr>\n",
       "    <tr>\n",
       "      <th>4</th>\n",
       "      <td>1596240013257</td>\n",
       "      <td>a8-17-58-ff-fe-03-10-45</td>\n",
       "      <td>21.5</td>\n",
       "      <td>47.0</td>\n",
       "      <td>0.0</td>\n",
       "      <td>5.0</td>\n",
       "      <td>479.0</td>\n",
       "      <td>3.686</td>\n",
       "      <td>NaN</td>\n",
       "      <td>NaN</td>\n",
       "      <td>NaN</td>\n",
       "      <td>NaN</td>\n",
       "      <td>NaN</td>\n",
       "      <td>NaN</td>\n",
       "      <td>NaN</td>\n",
       "    </tr>\n",
       "  </tbody>\n",
       "</table>\n",
       "</div>"
      ],
      "text/plain": [
       "            time                   deveui  temperature  humidity  light  \\\n",
       "0  1596240002191  a8-17-58-ff-fe-04-64-6b         21.4      44.0    0.0   \n",
       "1  1596240006323  a8-17-58-ff-fe-04-63-af         21.5      46.0    0.0   \n",
       "2  1596240010305  a8-17-58-ff-fe-04-63-b0         21.5      47.0    0.0   \n",
       "3  1596240012968  a8-17-58-ff-fe-03-0f-71         21.5      45.0    0.0   \n",
       "4  1596240013257  a8-17-58-ff-fe-03-10-45         21.5      47.0    0.0   \n",
       "\n",
       "   motion    co2  battery  sound_avg  sound_peak  moisture  pressure  \\\n",
       "0    79.0    NaN    3.635       34.0        64.0       NaN       NaN   \n",
       "1    86.0    NaN    3.638       34.0        64.0       NaN       NaN   \n",
       "2    76.0    NaN    3.638       34.0        64.0       NaN       NaN   \n",
       "3     5.0  500.0    3.684        NaN         NaN       NaN       NaN   \n",
       "4     5.0  479.0    3.686        NaN         NaN       NaN       NaN   \n",
       "\n",
       "   acceleration_x  acceleration_y  acceleration_z  \n",
       "0             NaN             NaN             NaN  \n",
       "1             NaN             NaN             NaN  \n",
       "2             NaN             NaN             NaN  \n",
       "3             NaN             NaN             NaN  \n",
       "4             NaN             NaN             NaN  "
      ]
     },
     "execution_count": 3,
     "metadata": {},
     "output_type": "execute_result"
    }
   ],
   "source": [
    "Data_File1.head()"
   ]
  },
  {
   "cell_type": "markdown",
   "metadata": {},
   "source": [
    "# Separate the devices"
   ]
  },
  {
   "cell_type": "code",
   "execution_count": 4,
   "metadata": {},
   "outputs": [
    {
     "name": "stdout",
     "output_type": "stream",
     "text": [
      "468\n"
     ]
    }
   ],
   "source": [
    "Time_1 = Data_File1[\"time\"]\n",
    "\n",
    "Deveui_1 = Data_File1[\"deveui\"]\n",
    "Devices_1 = dict(Counter(Deveui_1))\n",
    "print(len(Devices_1))\n",
    "# print(a)\n",
    "\n",
    "Devices_Headers_1 = list(Devices_1.keys())\n",
    "# print(Devices_Headers_1)\n",
    "Deveui_lis_1 = list(Deveui_1)"
   ]
  },
  {
   "cell_type": "code",
   "execution_count": 5,
   "metadata": {},
   "outputs": [
    {
     "name": "stderr",
     "output_type": "stream",
     "text": [
      "IOPub data rate exceeded.\n",
      "The notebook server will temporarily stop sending output\n",
      "to the client in order to avoid crashing it.\n",
      "To change this limit, set the config variable\n",
      "`--NotebookApp.iopub_data_rate_limit`.\n",
      "\n",
      "Current values:\n",
      "NotebookApp.iopub_data_rate_limit=1000000.0 (bytes/sec)\n",
      "NotebookApp.rate_limit_window=3.0 (secs)\n",
      "\n"
     ]
    }
   ],
   "source": [
    "all_list_1 = []\n",
    "for i in range (0,len(Devices_Headers_1)) :\n",
    "    res_list_1 = []\n",
    "    for j in range (0,len(Deveui_lis_1)) :\n",
    "        if Deveui_lis_1[j] == Devices_Headers_1[i] : \n",
    "            res_list_1.append(j)\n",
    "    all_list_1.append(res_list_1)\n",
    "#print(Deveui_lis_1.index(it[256]))\n",
    "print(all_list_1)"
   ]
  },
  {
   "cell_type": "code",
   "execution_count": 6,
   "metadata": {},
   "outputs": [],
   "source": [
    "Co2 = Data_File1[\"co2\"]\n",
    "count = 0\n",
    "\n",
    "for i in range (0,len(Devices_Headers_1)):\n",
    "    t = all_list_1[i]\n",
    "    Co2_i = Co2[t]\n",
    "    Co2_i = [kk for kk in Co2_i if str(kk) != 'nan']\n",
    "    if len(Co2_i) == 0:\n",
    "        count = count + 1\n",
    "    else:\n",
    "        id_dev = str(Devices_Headers_1[i])\n",
    "        df2 = pd.read_csv('New folder/Dev_' + id_dev + '_new.csv')\n",
    "        df = df2[['Co2']].copy()\n",
    "        df[df > 10000] = 0\n",
    "        df[df < 50] = 0\n",
    "        df_failure = df.replace(0, np.nan) # Replace missing value with nan\n",
    "\n",
    "        # Linear Interpolation\n",
    "        df_linear = df_failure.interpolate()\n",
    "        df_linear.to_csv('Interpolated/Dev_' + Devices_Headers_1[i] + '_Linear.csv', index=True, header=True, sep=',')        \n",
    "        \n",
    "        # KNN\n",
    "        imputer = KNNImputer(n_neighbors=7)\n",
    "        imputed = imputer.fit_transform(df_failure)\n",
    "        df_K = pd.DataFrame(imputed, columns=df_failure.columns)\n",
    "        df_K.to_csv('Interpolated/Dev_' + Devices_Headers_1[i] + '_K.csv', index=True, header=True, sep=',')\n",
    "        \n",
    "        "
   ]
  },
  {
   "cell_type": "code",
   "execution_count": null,
   "metadata": {},
   "outputs": [],
   "source": []
  },
  {
   "cell_type": "markdown",
   "metadata": {},
   "source": [
    "We use linear interpolation and KNN interpolation to handle the missing values as indicated in teh notebook 4. Test_Interpolation.ipynb"
   ]
  },
  {
   "cell_type": "markdown",
   "metadata": {},
   "source": [
    "Here, we save the linear intepolation technique as csv file with a name of the ID of the device _Linear, whereas we name the KNN interpolation as the ID of the device _K. We use K = 7 for the KNN interpolation."
   ]
  },
  {
   "cell_type": "code",
   "execution_count": null,
   "metadata": {},
   "outputs": [],
   "source": []
  }
 ],
 "metadata": {
  "kernelspec": {
   "display_name": "Python 3",
   "language": "python",
   "name": "python3"
  },
  "language_info": {
   "codemirror_mode": {
    "name": "ipython",
    "version": 3
   },
   "file_extension": ".py",
   "mimetype": "text/x-python",
   "name": "python",
   "nbconvert_exporter": "python",
   "pygments_lexer": "ipython3",
   "version": "3.8.5"
  }
 },
 "nbformat": 4,
 "nbformat_minor": 4
}
